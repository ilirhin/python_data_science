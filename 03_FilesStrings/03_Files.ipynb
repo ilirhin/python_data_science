{
 "cells": [
  {
   "cell_type": "markdown",
   "metadata": {},
   "source": [
    "# Работа с файлами"
   ]
  },
  {
   "cell_type": "markdown",
   "metadata": {},
   "source": [
    "## Работа с ФС"
   ]
  },
  {
   "cell_type": "markdown",
   "metadata": {},
   "source": [
    "### Пакет os, os.path"
   ]
  },
  {
   "cell_type": "markdown",
   "metadata": {},
   "source": [
    "Python 3 поставляется с модулем <b>os</b>, что означает «операционная система». Модуль os содержит множество функций для получения информации о локальных каталогах, файлах, процессах и переменных окружения (а в некоторых случаях, и для манипулирования ими). Python предлагает очень хороший унифицированный программный интерфейс для всех поддерживаемых операционных систем, так что ваши программы можно запускать на любом компьютере с минимальным количеством платформо-зависимого кода."
   ]
  },
  {
   "cell_type": "code",
   "execution_count": 1,
   "metadata": {},
   "outputs": [],
   "source": [
    "import os"
   ]
  },
  {
   "cell_type": "markdown",
   "metadata": {},
   "source": [
    "<b>os.path</b> представляет собой модуль, который предоставляет большой набор полезных методов для работы с файлами и каталогами"
   ]
  },
  {
   "cell_type": "markdown",
   "metadata": {},
   "source": [
    "1) <b>os.path.abspath(path)</b> - возвращает нормализованный абсолютный путь"
   ]
  },
  {
   "cell_type": "code",
   "execution_count": 2,
   "metadata": {},
   "outputs": [
    {
     "data": {
      "text/plain": [
       "'/home/tylorn/Git/python_data_science/03_FilesStrings'"
      ]
     },
     "execution_count": 2,
     "metadata": {},
     "output_type": "execute_result"
    }
   ],
   "source": [
    "os.path.abspath('.')"
   ]
  },
  {
   "cell_type": "markdown",
   "metadata": {},
   "source": [
    "2) <b>os.path.exists(path)</b> - возвращает True, если существующет указанный путь. Возвращает значение False для сломанных символьных ссылок"
   ]
  },
  {
   "cell_type": "code",
   "execution_count": 5,
   "metadata": {},
   "outputs": [
    {
     "data": {
      "text/plain": [
       "True"
      ]
     },
     "execution_count": 5,
     "metadata": {},
     "output_type": "execute_result"
    }
   ],
   "source": [
    "os.path.exists('./hw')"
   ]
  },
  {
   "cell_type": "markdown",
   "metadata": {},
   "source": [
    "3) <b>os.path.isfile(path)</b> - возвращает True, если файл существует по указанному пути"
   ]
  },
  {
   "cell_type": "code",
   "execution_count": 6,
   "metadata": {},
   "outputs": [
    {
     "data": {
      "text/plain": [
       "False"
      ]
     },
     "execution_count": 6,
     "metadata": {},
     "output_type": "execute_result"
    }
   ],
   "source": [
    "os.path.isfile('./hw')"
   ]
  },
  {
   "cell_type": "markdown",
   "metadata": {},
   "source": [
    "4) <b>os.path.isdir(path)</b> - возвращает True, если существует каталог по указанному пути"
   ]
  },
  {
   "cell_type": "code",
   "execution_count": 7,
   "metadata": {},
   "outputs": [
    {
     "data": {
      "text/plain": [
       "True"
      ]
     },
     "execution_count": 7,
     "metadata": {},
     "output_type": "execute_result"
    }
   ],
   "source": [
    "os.path.isdir('./hw')"
   ]
  },
  {
   "cell_type": "markdown",
   "metadata": {},
   "source": [
    "5) <b>os.path.join(path1 [, path2 [, ...]])</b> - присоединяется один или несколько компонентов пути, при необходимости добавляется символ '/'"
   ]
  },
  {
   "cell_type": "code",
   "execution_count": 8,
   "metadata": {
    "scrolled": true
   },
   "outputs": [
    {
     "data": {
      "text/plain": [
       "'./hw'"
      ]
     },
     "execution_count": 8,
     "metadata": {},
     "output_type": "execute_result"
    }
   ],
   "source": [
    "os.path.join('.', 'hw')"
   ]
  },
  {
   "cell_type": "markdown",
   "metadata": {},
   "source": [
    "С полным списоком функций моделя os.path можно ознкомиться по следующей ссылке https://docs.python.org/3.6/library/os.path.html"
   ]
  },
  {
   "cell_type": "markdown",
   "metadata": {},
   "source": [
    "### Просмотр файлов на ФС"
   ]
  },
  {
   "cell_type": "markdown",
   "metadata": {},
   "source": [
    "1) <b>os.listdir(path)</b> - вывод содержимого указанного каталога"
   ]
  },
  {
   "cell_type": "code",
   "execution_count": 9,
   "metadata": {},
   "outputs": [
    {
     "data": {
      "text/plain": [
       "['.ipynb_checkpoints',\n",
       " '01_Prints.ipynb',\n",
       " '03_Files.ipynb',\n",
       " '04_Combo.ipynb',\n",
       " '02_Strings.ipynb',\n",
       " 'hw']"
      ]
     },
     "execution_count": 9,
     "metadata": {},
     "output_type": "execute_result"
    }
   ],
   "source": [
    "os.listdir('.')"
   ]
  },
  {
   "cell_type": "markdown",
   "metadata": {},
   "source": [
    "2) Выберем из содержимого текущего каталога только файлы с расширением ipynb и txt"
   ]
  },
  {
   "cell_type": "code",
   "execution_count": 10,
   "metadata": {},
   "outputs": [
    {
     "data": {
      "text/plain": [
       "['01_Prints.ipynb', '03_Files.ipynb', '04_Combo.ipynb', '02_Strings.ipynb']"
      ]
     },
     "execution_count": 10,
     "metadata": {},
     "output_type": "execute_result"
    }
   ],
   "source": [
    "[file for file in os.listdir('.') if file.endswith(('.ipynb','.txt'))]"
   ]
  },
  {
   "cell_type": "markdown",
   "metadata": {},
   "source": [
    "3) Тоже самое можно сделать через функцию <b>filter()</b>, которая возвращает объект-генератор"
   ]
  },
  {
   "cell_type": "code",
   "execution_count": 11,
   "metadata": {},
   "outputs": [
    {
     "name": "stdout",
     "output_type": "stream",
     "text": [
      "<filter object at 0x7f34b0549d68>\n"
     ]
    }
   ],
   "source": [
    "files = filter(lambda x: x.endswith(('.ipynb','.txt')), os.listdir('.'))\n",
    "print(files)"
   ]
  },
  {
   "cell_type": "code",
   "execution_count": 12,
   "metadata": {},
   "outputs": [
    {
     "name": "stdout",
     "output_type": "stream",
     "text": [
      "01_Prints.ipynb\n",
      "03_Files.ipynb\n",
      "04_Combo.ipynb\n",
      "02_Strings.ipynb\n"
     ]
    }
   ],
   "source": [
    "for file in files:\n",
    "    print(file)"
   ]
  },
  {
   "cell_type": "markdown",
   "metadata": {},
   "source": [
    "4) <b>os.walk()</b> - возвращает объект-генератор. Из полученного объекта можно получить кортежи для каждого каталога в переданной walk файловой иерархии. Каждый кортеж состоит из трех элементов: \n",
    "\n",
    "<pre>1. Абсолютный адрес очередного каталога (строка),\n",
    "2. Имена (без адреса) подкаталогов первого уровня для текущего каталога (список),\n",
    "3. Имена (без адреса) файлов данного каталога.</pre>"
   ]
  },
  {
   "cell_type": "markdown",
   "metadata": {},
   "source": [
    "Посмотрим, как это работает. Допустим, у нас есть такое дерево каталогов"
   ]
  },
  {
   "cell_type": "code",
   "execution_count": 13,
   "metadata": {},
   "outputs": [],
   "source": [
    "tree = os.walk('.') "
   ]
  },
  {
   "cell_type": "markdown",
   "metadata": {},
   "source": [
    "На что же ссылается tree? Попробуем просто получить данные, связанные с данной переменной. "
   ]
  },
  {
   "cell_type": "code",
   "execution_count": 14,
   "metadata": {},
   "outputs": [
    {
     "name": "stdout",
     "output_type": "stream",
     "text": [
      "<generator object walk at 0x7f34b0524b48>\n"
     ]
    }
   ],
   "source": [
    "print(tree)"
   ]
  },
  {
   "cell_type": "markdown",
   "metadata": {},
   "source": [
    "Итак, есть объект-генератор. Поскольку полученный объект генерирует кортежи, количество которых равно количеству каталогов в дереве, то можно их получить с помощью цикла for и, например, вывести на экран "
   ]
  },
  {
   "cell_type": "code",
   "execution_count": 15,
   "metadata": {},
   "outputs": [
    {
     "name": "stdout",
     "output_type": "stream",
     "text": [
      "('.', ['.ipynb_checkpoints', 'hw'], ['01_Prints.ipynb', '03_Files.ipynb', '04_Combo.ipynb', '02_Strings.ipynb'])\n",
      "('./.ipynb_checkpoints', [], ['Combo-checkpoint.ipynb', 'Prints-checkpoint.ipynb', '01_Prints-checkpoint.ipynb', '02_Strings-checkpoint.ipynb'])\n",
      "('./hw', ['.ipynb_checkpoints'], ['FilesHw.ipynb', 'FilesHwSolution.ipynb'])\n",
      "('./hw/.ipynb_checkpoints', [], ['FilesHwSolution-checkpoint.ipynb', 'FilesHw-checkpoint.ipynb'])\n"
     ]
    }
   ],
   "source": [
    "for d in tree: \n",
    "    print(d)"
   ]
  },
  {
   "cell_type": "markdown",
   "metadata": {},
   "source": [
    "Итак, налицо два кортежа (два каталога). Каждый кортеж включает три элемента. Первый – это адрес каталога, второй – список поддиректорий не глубже первого уровня, третий – список имен файлов. Если вложенных каталогов или файлов нет, то соответствующий им список будет пуст. "
   ]
  },
  {
   "cell_type": "markdown",
   "metadata": {},
   "source": [
    "### Создание и удаление файлов и папок"
   ]
  },
  {
   "cell_type": "markdown",
   "metadata": {},
   "source": [
    "1) <b>os.remove()</b> - удаляет файл"
   ]
  },
  {
   "cell_type": "code",
   "execution_count": 16,
   "metadata": {},
   "outputs": [
    {
     "name": "stdout",
     "output_type": "stream",
     "text": [
      "['.ipynb_checkpoints', '01_Prints.ipynb', 'delete.txt', '03_Files.ipynb', '04_Combo.ipynb', '02_Strings.ipynb', 'hw']\n"
     ]
    }
   ],
   "source": [
    "! touch delete.txt # создадим пустой файл delete.txt\n",
    "print(os.listdir('.'))"
   ]
  },
  {
   "cell_type": "code",
   "execution_count": 17,
   "metadata": {},
   "outputs": [
    {
     "name": "stdout",
     "output_type": "stream",
     "text": [
      "['.ipynb_checkpoints', '01_Prints.ipynb', '03_Files.ipynb', '04_Combo.ipynb', '02_Strings.ipynb', 'hw']\n"
     ]
    }
   ],
   "source": [
    "os.remove('delete.txt') # удалим файл delete.txt\n",
    "print(os.listdir('.'))"
   ]
  },
  {
   "cell_type": "markdown",
   "metadata": {},
   "source": [
    "2) <b>os.rmdir()</b> - удаляет пустую директорию"
   ]
  },
  {
   "cell_type": "code",
   "execution_count": 18,
   "metadata": {},
   "outputs": [
    {
     "name": "stdout",
     "output_type": "stream",
     "text": [
      "['.ipynb_checkpoints', '01_Prints.ipynb', '03_Files.ipynb', 'delete', '04_Combo.ipynb', '02_Strings.ipynb', 'hw']\n"
     ]
    }
   ],
   "source": [
    "! mkdir delete # создадим пустой каталог delete\n",
    "print(os.listdir('.'))"
   ]
  },
  {
   "cell_type": "code",
   "execution_count": 19,
   "metadata": {},
   "outputs": [
    {
     "name": "stdout",
     "output_type": "stream",
     "text": [
      "['.ipynb_checkpoints', '01_Prints.ipynb', '03_Files.ipynb', '04_Combo.ipynb', '02_Strings.ipynb', 'hw']\n"
     ]
    }
   ],
   "source": [
    "os.rmdir('delete')\n",
    "print(os.listdir('.'))"
   ]
  },
  {
   "cell_type": "markdown",
   "metadata": {},
   "source": [
    "3) <b>shutil.rmtree()</b> - удаляет директорию вместе со вмем содержимым"
   ]
  },
  {
   "cell_type": "code",
   "execution_count": 20,
   "metadata": {},
   "outputs": [
    {
     "name": "stdout",
     "output_type": "stream",
     "text": [
      "['.ipynb_checkpoints', '01_Prints.ipynb', '03_Files.ipynb', 'delete', '04_Combo.ipynb', '02_Strings.ipynb', 'hw']\n"
     ]
    }
   ],
   "source": [
    "import shutil\n",
    "os.mkdir('delete') # создадим пустой каталог delete с файлом delete.txt внутри него\n",
    "! touch delete/delete.txt\n",
    "print(os.listdir('.'))"
   ]
  },
  {
   "cell_type": "code",
   "execution_count": 21,
   "metadata": {},
   "outputs": [
    {
     "name": "stdout",
     "output_type": "stream",
     "text": [
      "['.ipynb_checkpoints', '01_Prints.ipynb', '03_Files.ipynb', '04_Combo.ipynb', '02_Strings.ipynb', 'hw']\n"
     ]
    }
   ],
   "source": [
    "shutil.rmtree('delete') # удалим каталог delete со всем содержимым\n",
    "print(os.listdir('.'))"
   ]
  },
  {
   "cell_type": "markdown",
   "metadata": {},
   "source": [
    "## Файлы и файловые дескрипторы"
   ]
  },
  {
   "cell_type": "markdown",
   "metadata": {},
   "source": [
    "### Открытие файла и файловый дескриптор: open"
   ]
  },
  {
   "cell_type": "markdown",
   "metadata": {},
   "source": [
    "<b>open(file, mode='r', buffering=-1, encoding=None, errors=None, newline=None, closefd=True, opener=None)</b>"
   ]
  },
  {
   "cell_type": "markdown",
   "metadata": {},
   "source": [
    "<b>file</b> - путь к файлу, может быть относительным или абсолютным\n",
    "\n",
    "\n",
    "<b>mode='r'</b> - режим открытия файлов (см. 2.3)\n",
    "\n",
    "<b>buffering=-1</b> -  Челое число. Если значение аргумента указано 0 - файл открывается без буферизации, 1 с построчной буферизацией, больше одного процесс буферизации выполняется с указанным размером буфера. Отрицательное число - разер буфера будет равен системному\n",
    "\n",
    "<b>encoding=None</b> - кодировка, которая была использована для кодирования или декодирования файла. Используется только в текстовом режиме\n",
    "\n",
    "<b>errors=None</b> - опциональная строка, которая задает метод обработки ошибок в кодировке. Нельзя использовать в бинарном режиме.\n",
    "\n",
    "<pre><b>'strict'</b> или <b>None</b> - вызывается ошибка ValueError, если присутствуют ошибки кодировки<br>\n",
    "<b>'ignore'</b> - игнорирование ошибок кодировки (может вести к потере данных)\n",
    "\n",
    "Полный список методов обработки ошибок в официальной документации\n",
    "https://docs.python.org/3/library/codecs.html#error-handlers</pre>\n",
    "\n",
    "<b>newline=None</b> - строка, определяющая режим работы универсальных переводов строк. Следует использовать только для текстовых файлов. <b>Варианты: None, пустая строка, \\n, \\r, и \\r\\n.</b>\n",
    "\n",
    "<b>closefd=True</b> - флаг необходимости закрытия файлового дескриптора. Используется только, если в file указан дескриптор, иначе вызывается ошибка. Если False, то дескриптор будет оставлен открытым даже после закрытия файла\n",
    "\n",
    "<b>opener=None</b> - пользовательский объект, поддерживающий вызов, который следует использовать для открытия файла. Этот объект получая на входе file и flags, должен возвращать открытый дескриптор файла (возврат os.open и None при этом функционально идентичны)"
   ]
  },
  {
   "cell_type": "code",
   "execution_count": 22,
   "metadata": {},
   "outputs": [],
   "source": [
    "! touch input.txt"
   ]
  },
  {
   "cell_type": "code",
   "execution_count": 23,
   "metadata": {},
   "outputs": [],
   "source": [
    "f = open('input.txt')"
   ]
  },
  {
   "cell_type": "markdown",
   "metadata": {},
   "source": [
    "### Некоторые атрибуты файлового объекта в Python.\n",
    "Как только файл был открыт и у вас появился файловый объект, вы можете получить следующую информацию о нем:\n",
    "\n",
    "<b>file.closed</b>\t- возвращает True если файл был закрыт<br>\n",
    "<b>file.mode</b> - возвращает режим доступа, с которым был открыт файл<br>\n",
    "<b>file.name</b> - возвращает имя файла"
   ]
  },
  {
   "cell_type": "code",
   "execution_count": 24,
   "metadata": {},
   "outputs": [
    {
     "name": "stdout",
     "output_type": "stream",
     "text": [
      "Имя файла:  input.txt\n",
      "Файл закрыт:  False\n",
      "В каком режиме файл открыт:  r\n"
     ]
    }
   ],
   "source": [
    "print(\"Имя файла: \", f.name)\n",
    "print(\"Файл закрыт: \", f.closed)\n",
    "print(\"В каком режиме файл открыт: \", f.mode)"
   ]
  },
  {
   "cell_type": "markdown",
   "metadata": {},
   "source": [
    "### Закрытие файла в Python. Метод close().\n",
    "Метод файлового объекта <b>close()</b> автоматически закрывает файл, при этом теряется любая несохраненная информация.<br> Работать с файлом (читать, записывать) после этого нельзя.<br>\n",
    "Python автоматически закрывает файл если файловый объект к которому он привязан присваивается другому файлу. Однако, хорошей практикой будет вручную закрывать файл командой <b>close()</b>."
   ]
  },
  {
   "cell_type": "code",
   "execution_count": 25,
   "metadata": {},
   "outputs": [
    {
     "name": "stdout",
     "output_type": "stream",
     "text": [
      "Файл закрыт:  False\n",
      "А теперь закрыт:  True\n"
     ]
    }
   ],
   "source": [
    "print(\"Файл закрыт: \", f.closed)\n",
    "f.close()\n",
    "print(\"А теперь закрыт: \", f.closed)"
   ]
  },
  {
   "cell_type": "markdown",
   "metadata": {},
   "source": [
    "### Простая операция записи в файл write"
   ]
  },
  {
   "cell_type": "markdown",
   "metadata": {},
   "source": [
    "Метод <b>write()</b> записывает любую строку в открытый файл.\n",
    "\n",
    "Важно помнить, что строки в Python могут содержать двоичные данные, а не только текст.<br>\n",
    "Метод <b>write()</b> не добавляет символ переноса строки ('\\n') в конец файла.<br>\n",
    "Когда файл открывается с режимом <b>'w'</b>, он не обязательно должен уже существовать"
   ]
  },
  {
   "cell_type": "code",
   "execution_count": 26,
   "metadata": {},
   "outputs": [],
   "source": [
    "f = open('input.txt', 'w')\n",
    "f.write(\"Мне нравится Python!\\nЭто классный язык!\")\n",
    "f.close()"
   ]
  },
  {
   "cell_type": "markdown",
   "metadata": {},
   "source": [
    "### Простая операции чтения read"
   ]
  },
  {
   "cell_type": "markdown",
   "metadata": {},
   "source": [
    "Метод <b>read()</b> читает строку из открытого файла.\n",
    "\n",
    "Необязательный параметр <b>size</b> - это количество символов, которые следует прочитать из открытого файла. Этот метод читает информацию с начала файла и, если параметр count не указан, до конца файла"
   ]
  },
  {
   "cell_type": "code",
   "execution_count": 27,
   "metadata": {},
   "outputs": [
    {
     "name": "stdout",
     "output_type": "stream",
     "text": [
      "Мне нравится Python!\n",
      "Это классн\n"
     ]
    }
   ],
   "source": [
    "f = open('input.txt', 'r')\n",
    "print(f.read(31))\n",
    "f.close()"
   ]
  },
  {
   "cell_type": "markdown",
   "metadata": {},
   "source": [
    "### Режимы открытия файлов r, rb, w, wb, a etc"
   ]
  },
  {
   "cell_type": "markdown",
   "metadata": {
    "collapsed": true
   },
   "source": [
    "<b>'r'</b> - открытие на чтение (является значением по умолчанию). Указатель стоит в начале файла<br>\n",
    "<b>'w'</b> - открытие на запись, содержимое файла удаляется, если файла не существует, создается новый. Указатель стоит в начале файла<br>\n",
    "<b>'x'</b> - открытие на запись, если файла не существует, иначе исключение<br>\n",
    "<b>'a'</b> - открытие на дозапись, информация добавляется в конец файла. Указатель стоит в конце файла. Создает файл с именем имя_файла, если такового не существует<br>\n",
    "<b>'b'</b> - открытие в двоичном режиме<br>\n",
    "<b>'t'</b> - открытие в текстовом режиме (является значением по умолчанию)<br>\n",
    "<b>'+'</b> - открытие на чтение и запись<br>"
   ]
  },
  {
   "cell_type": "markdown",
   "metadata": {},
   "source": [
    "<b>Совместное использование</b>\n",
    "\n",
    "<b>'rb'</b> - открывает файл для чтения в двоичном формате. Указатель стоит в начале файла<br>\n",
    "<b>'r+'</b> - открывает файл для чтения и записи. Указатель стоит в начале файла<br>\n",
    "<b>'rb+'</b> - открывает файл для чтения и записи в двоичном формате. Указатель стоит в начале файла\n",
    "\n",
    "<b>'wb'</b> - открывает файл для записи в двоичном формате. Указатель стоит в начале файла. Создает файл с именем имя_файла, если такового не существует<br>\n",
    "<b>'w+'</b> - открывает файл для чтения и записи. Указатель стоит в начале файла. Создает файл с именем имя_файла, если такового не существует<br>\n",
    "<b>'wb+'</b> - открывает файл для чтения и записи в двоичном формате. Указатель стоит в начале файла. Создает файл с именем имя_файла, если такового не существует\n",
    "\n",
    "<b>ab</b> - открывает файл для добавления в двоичном формате. Указатель стоит в конце файла. Создает файл с именем имя_файла, если такового не существует<br>\n",
    "<b>a+</b> - открывает файл для добавления и чтения. Указатель стоит в конце файла. Создает файл с именем имя_файла, если такового не существует<br>\n",
    "<b>ab+</b> - открывает файл для добавления и чтения в двоичном формате. Указатель стоит в конце файла. Создает файл с именем имя_файла, если такового не существует"
   ]
  },
  {
   "cell_type": "markdown",
   "metadata": {},
   "source": [
    "## Чтение данных из файла"
   ]
  },
  {
   "cell_type": "markdown",
   "metadata": {},
   "source": [
    "### Чтение данных ‘as is’: read, readlines и чтение части файла"
   ]
  },
  {
   "cell_type": "markdown",
   "metadata": {},
   "source": [
    "<b>1) f.readline(size=-1, /)</b> - считывает строку, пока не дойдет до конца файла (EOF)\n",
    "\n",
    "Необязательный параметр <b>size</b> - это количество символов, которые следует прочитать из следующей строки"
   ]
  },
  {
   "cell_type": "code",
   "execution_count": 28,
   "metadata": {},
   "outputs": [
    {
     "name": "stdout",
     "output_type": "stream",
     "text": [
      "Мне нравится Python!\n",
      "\n"
     ]
    }
   ],
   "source": [
    "f = open('input.txt', 'r')\n",
    "print(f.readline())\n",
    "f.close()"
   ]
  },
  {
   "cell_type": "code",
   "execution_count": 29,
   "metadata": {},
   "outputs": [
    {
     "name": "stdout",
     "output_type": "stream",
     "text": [
      "Мне нравится Python!\n",
      "\n",
      "Это классный язык!\n"
     ]
    }
   ],
   "source": [
    "f = open('input.txt', 'r')\n",
    "for i in range(2):\n",
    "    print(f.readline())\n",
    "f.close()"
   ]
  },
  {
   "cell_type": "markdown",
   "metadata": {},
   "source": [
    "<b>2) f.readlines(hint=-1, /)</b> - возвращает список, элементами которого являются строки\n",
    "\n",
    "<b>hint</b> - опциональный параметр, задает количество строк к записи в список. Следующая строка не будет прочитана, если суммарный объем (байт / количество символов) больше чем параметр b<>hint</b>"
   ]
  },
  {
   "cell_type": "code",
   "execution_count": 30,
   "metadata": {},
   "outputs": [
    {
     "name": "stdout",
     "output_type": "stream",
     "text": [
      "['Мне нравится Python!\\n', 'Это классный язык!']\n"
     ]
    }
   ],
   "source": [
    "f = open('input.txt', 'r')\n",
    "print(f.readlines())\n",
    "f.close()"
   ]
  },
  {
   "cell_type": "code",
   "execution_count": 31,
   "metadata": {},
   "outputs": [
    {
     "name": "stdout",
     "output_type": "stream",
     "text": [
      "['Мне нравится Python!\\n']\n"
     ]
    }
   ],
   "source": [
    "f = open('input.txt', 'r')\n",
    "print(f.readlines(20)) # 20 символов в первой строке. Вторая поэтому не будет записана в список\n",
    "f.close()"
   ]
  },
  {
   "cell_type": "code",
   "execution_count": 32,
   "metadata": {},
   "outputs": [],
   "source": [
    "os.remove('input.txt')"
   ]
  },
  {
   "cell_type": "markdown",
   "metadata": {},
   "source": [
    "### Пакет io"
   ]
  },
  {
   "cell_type": "code",
   "execution_count": 33,
   "metadata": {},
   "outputs": [],
   "source": [
    "import io"
   ]
  },
  {
   "cell_type": "markdown",
   "metadata": {},
   "source": [
    "Модуль <b>io</b> позволяет оперировать потоками. Функция open() принадлежит этому модулю.<br>\n",
    "Рассмотрим классы этого модуля."
   ]
  },
  {
   "cell_type": "markdown",
   "metadata": {},
   "source": [
    "1) Самым главным классом иерархии I/O является абстрактный базовый класс <b>IOBase</b>. Он определяет базовый интерфейс с потоком. Несмотря на то, что между чтением потока и записью в него нет никакого разделения, функции могут вызвать ошибку OSError, если они не поддерживают данную операцию\n",
    "\n",
    "2) Наследуется от класса IOBase класс <b>RawIOBase</b>, который читает из потока и пишет в поток \"сырые байты\" (raw bytes). Наследуется, чтобы обеспечить интерфейсом с файлами на операционной системе\n",
    "\n",
    "3) <b>BufferedIOBase</b> - данный класс позволяет работать с последовательностью байтов как с файловым объектом. Нет никакого кодирования и декодирования данных\n",
    "\n",
    "4) <b>TextIOBase</b>, получает и возвращает объект str. Здесь применяется кодирование и декодирование данных"
   ]
  },
  {
   "cell_type": "markdown",
   "metadata": {},
   "source": [
    "### 3.3 Бинарные данные "
   ]
  },
  {
   "cell_type": "markdown",
   "metadata": {},
   "source": [
    "Откроем тот же самый файл с текстом<br>\n",
    "<pre>Мне нравится Python!<br>\n",
    "Это классный язык!</pre>\n",
    "Но в бинарном режиме"
   ]
  },
  {
   "cell_type": "code",
   "execution_count": 34,
   "metadata": {},
   "outputs": [
    {
     "ename": "FileNotFoundError",
     "evalue": "[Errno 2] No such file or directory: 'input.txt'",
     "output_type": "error",
     "traceback": [
      "\u001b[0;31m---------------------------------------------------------------------------\u001b[0m",
      "\u001b[0;31mFileNotFoundError\u001b[0m                         Traceback (most recent call last)",
      "\u001b[0;32m<ipython-input-34-7ebbee105132>\u001b[0m in \u001b[0;36m<module>\u001b[0;34m()\u001b[0m\n\u001b[0;32m----> 1\u001b[0;31m \u001b[0mf\u001b[0m \u001b[0;34m=\u001b[0m \u001b[0mopen\u001b[0m\u001b[0;34m(\u001b[0m\u001b[0;34m'input.txt'\u001b[0m\u001b[0;34m,\u001b[0m \u001b[0;34m'rb'\u001b[0m\u001b[0;34m)\u001b[0m\u001b[0;34m\u001b[0m\u001b[0m\n\u001b[0m\u001b[1;32m      2\u001b[0m \u001b[0mprint\u001b[0m\u001b[0;34m(\u001b[0m\u001b[0mf\u001b[0m\u001b[0;34m.\u001b[0m\u001b[0mread\u001b[0m\u001b[0;34m(\u001b[0m\u001b[0;34m)\u001b[0m\u001b[0;34m)\u001b[0m\u001b[0;34m\u001b[0m\u001b[0m\n\u001b[1;32m      3\u001b[0m \u001b[0mf\u001b[0m\u001b[0;34m.\u001b[0m\u001b[0mclose\u001b[0m\u001b[0;34m(\u001b[0m\u001b[0;34m)\u001b[0m\u001b[0;34m\u001b[0m\u001b[0m\n",
      "\u001b[0;31mFileNotFoundError\u001b[0m: [Errno 2] No such file or directory: 'input.txt'"
     ]
    }
   ],
   "source": [
    "f = open('input.txt', 'rb')\n",
    "print(f.read())\n",
    "f.close()"
   ]
  },
  {
   "cell_type": "markdown",
   "metadata": {},
   "source": [
    "### Форматированные файлы: csv, tsv"
   ]
  },
  {
   "cell_type": "markdown",
   "metadata": {
    "collapsed": true
   },
   "source": [
    "1) <b>CSV</b> (Comma-Separated Values — значения, разделённые запятыми) — текстовый формат, предназначенный для представления табличных данных\n",
    "\n",
    "<ol> - каждая строка файла — это одна строка таблицы<br>\n",
    " - разделителем значений колонок является символ запятой (,)<br>\n",
    " - значения, содержащие зарезервированные символы (двойная кавычка, запятая, точка с запятой, новая строка) обрамляются двойными кавычками (\"). Если в значении встречаются кавычки — они представляются в файле в виде двух кавычек подряд</ol>"
   ]
  },
  {
   "cell_type": "markdown",
   "metadata": {},
   "source": [
    "2) <b>TSV</b> (tab separated values — значения, разделённые табуляцией) — текстовый формат для представления таблиц баз данных. Каждая запись в таблице — это строка текстового файла. Каждое поле записи отделяется от других с помощью символа табуляции, точнее горизонтальной табуляции."
   ]
  },
  {
   "cell_type": "markdown",
   "metadata": {},
   "source": [
    "## Сериализация объектов"
   ]
  },
  {
   "cell_type": "markdown",
   "metadata": {
    "collapsed": true
   },
   "source": [
    "<b>JSON</b> (JavaScript Object Notation) - простой формат обмена данными, основанный на подмножестве синтаксиса JavaScript. Модуль json позволяет кодировать и декодировать данные в удобном формате."
   ]
  },
  {
   "cell_type": "markdown",
   "metadata": {},
   "source": [
    "Кодирование основных объектов Python"
   ]
  },
  {
   "cell_type": "code",
   "execution_count": 40,
   "metadata": {},
   "outputs": [
    {
     "name": "stdout",
     "output_type": "stream",
     "text": [
      "\"\\\"foo\\bar\"\n",
      "\"\\u1234\"\n",
      "\"\\\\\"\n",
      "{\"a\": 0, \"b\": 0, \"c\": 0}\n"
     ]
    }
   ],
   "source": [
    "import json\n",
    "\n",
    "json.dumps(['foo', {'bar': ('baz', None, 1.0, 2)}])\n",
    "\n",
    "print(json.dumps(\"\\\"foo\\bar\"))\n",
    "print(json.dumps('\\u1234'))\n",
    "print(json.dumps('\\\\'))\n",
    "print(json.dumps({\"c\": 0, \"b\": 0, \"a\": 0}, sort_keys=True))"
   ]
  },
  {
   "cell_type": "code",
   "execution_count": 41,
   "metadata": {},
   "outputs": [
    {
     "data": {
      "text/plain": [
       "'[1,2,3,{\"4\":5,\"6\":7}]'"
      ]
     },
     "execution_count": 41,
     "metadata": {},
     "output_type": "execute_result"
    }
   ],
   "source": [
    "# Компактное кодирование\n",
    "\n",
    "json.dumps([1,2,3,{'4': 5, '6': 7}], separators=(',', ':'))"
   ]
  },
  {
   "cell_type": "code",
   "execution_count": 42,
   "metadata": {},
   "outputs": [
    {
     "name": "stdout",
     "output_type": "stream",
     "text": [
      "{\n",
      "    \"4\": 5,\n",
      "    \"6\": 7\n",
      "}\n"
     ]
    }
   ],
   "source": [
    "# Красивый вывод\n",
    "print(json.dumps({'4': 5, '6': 7}, sort_keys=True, indent=4))"
   ]
  },
  {
   "cell_type": "code",
   "execution_count": 43,
   "metadata": {},
   "outputs": [
    {
     "data": {
      "text/plain": [
       "'\"foo\\x08ar'"
      ]
     },
     "execution_count": 43,
     "metadata": {},
     "output_type": "execute_result"
    }
   ],
   "source": [
    "# Декодирование (парсинг) JSON\n",
    "\n",
    "json.loads('[\"foo\", {\"bar\":[\"baz\", null, 1.0, 2]}]')\n",
    "json.loads('\"\\\\\"foo\\\\bar\"')"
   ]
  },
  {
   "cell_type": "markdown",
   "metadata": {},
   "source": [
    "### pickle"
   ]
  },
  {
   "cell_type": "markdown",
   "metadata": {},
   "source": [
    "Модуль <b>pickle</b> реализует мощный алгоритм сериализации и десериализации объектов Python.\n",
    "\n",
    "<b>Pickling</b> - процесс преобразования объекта Python в поток байтов<br>\n",
    "<b>Unpickling</b> - обратная операция, в результате которой поток байтов преобразуется обратно в Python-объект\n",
    "\n",
    "Так как поток байтов легко можно записать в файл, модуль <b>pickle</b> широко применяется для сохранения и загрузки сложных объектов в Python"
   ]
  },
  {
   "cell_type": "markdown",
   "metadata": {},
   "source": [
    "С помощью модуля <b>pickle</b>, практически любой тип объекта может быть сохранен на диске в любой момент его жизни, а позже прочитан с диска"
   ]
  },
  {
   "cell_type": "code",
   "execution_count": 39,
   "metadata": {},
   "outputs": [
    {
     "name": "stdout",
     "output_type": "stream",
     "text": [
      "[1, 2, 3]\n"
     ]
    }
   ],
   "source": [
    "import pickle\n",
    "t1 = [1, 2, 3]\n",
    "s = pickle.dumps(t1)\n",
    "t2 = pickle.loads(s)\n",
    "print(t2)"
   ]
  },
  {
   "cell_type": "markdown",
   "metadata": {},
   "source": [
    "Здесь есть небольшой нюанс: t1 и t2 будут двумя разными объектами, хотя и идентичными."
   ]
  },
  {
   "cell_type": "markdown",
   "metadata": {},
   "source": [
    "<b>Не загружайте с помощью модуля pickle файлы из ненадёжных источников. Это может привести к необратимым последствиям</b>"
   ]
  },
  {
   "cell_type": "markdown",
   "metadata": {},
   "source": [
    "Модуль <b>pickle</b> предоставляет следующие функции для удобства сохранения/загрузки объектов:\n",
    "\n",
    "<b>pickle.dump(obj, file, protocol=None, *, fix_imports=True)</b> - записывает сериализованный объект в файл.\n",
    "\n",
    "Дополнительный аргумент protocol указывает используемый протокол. По умолчанию равен 3 и именно он рекомендован для использования в Python 3 (несмотря на то, что в Python 3.4 добавили протокол версии 4 с некоторыми оптимизациями). В любом случае, записывать и загружать надо с одним и тем же протоколом.\n",
    "\n",
    "<b>pickle.dumps(obj, protocol=None, *, fix_imports=True)</b> - возвращает сериализованный объект. Впоследствии вы его можете использовать как угодно.\n",
    "\n",
    "<b>pickle.load(file, *, fix_imports=True, encoding=\"ASCII\", errors=\"strict\")</b> - загружает объект из файла.\n",
    "\n",
    "<b>pickle.loads(bytes_object, *, fix_imports=True, encoding=\"ASCII\", errors=\"strict\")</b> - загружает объект из потока байт."
   ]
  },
  {
   "cell_type": "markdown",
   "metadata": {},
   "source": [
    "Модуль <b>pickle</b> также определяет несколько исключений:\n",
    "\n",
    "<b>pickle.PicklingError</b> - случились проблемы с сериализацией объекта.<br>\n",
    "<b>pickle.UnpicklingError</b> - случились проблемы с десериализацией объекта.<br>\n",
    "\n",
    "Этих функций вполне достаточно для сохранения и загрузки встроенных типов данных."
   ]
  },
  {
   "cell_type": "code",
   "execution_count": 41,
   "metadata": {},
   "outputs": [
    {
     "name": "stdout",
     "output_type": "stream",
     "text": [
      "{'a': [1, 2.0, 3, (4+6j)], 'b': ('character string', b'byte string'), 'c': {False, True, None}}\n"
     ]
    }
   ],
   "source": [
    "data = {\n",
    "    'a': [1, 2.0, 3, 4+6j],\n",
    "    'b': (\"character string\", b\"byte string\"),\n",
    "    'c': {None, True, False}\n",
    "}\n",
    "\n",
    "with open('data.pickle', 'wb') as f:\n",
    "    pickle.dump(data, f)\n",
    "\n",
    "with open('data.pickle', 'rb') as f:\n",
    "    data_new = pickle.load(f)\n",
    "\n",
    "print(data_new)"
   ]
  }
 ],
 "metadata": {
  "kernelspec": {
   "display_name": "dmia",
   "language": "python",
   "name": "dmia"
  },
  "language_info": {
   "codemirror_mode": {
    "name": "ipython",
    "version": 3
   },
   "file_extension": ".py",
   "mimetype": "text/x-python",
   "name": "python",
   "nbconvert_exporter": "python",
   "pygments_lexer": "ipython3",
   "version": "3.6.6"
  }
 },
 "nbformat": 4,
 "nbformat_minor": 2
}
