{
 "cells": [
  {
   "cell_type": "markdown",
   "metadata": {},
   "source": [
    "# Работа со строками"
   ]
  },
  {
   "cell_type": "markdown",
   "metadata": {},
   "source": [
    "## Типы строк"
   ]
  },
  {
   "cell_type": "markdown",
   "metadata": {},
   "source": [
    "### Bytestring и string"
   ]
  },
  {
   "cell_type": "markdown",
   "metadata": {},
   "source": [
    "<b>bytestring</b> - последовательность байтов, трудно воспринимаемая человеком.\n",
    "\n",
    "Любая информация должна быть переконвертирована в bytestring прежде чем хранить её на компьютере."
   ]
  },
  {
   "cell_type": "markdown",
   "metadata": {},
   "source": [
    "<b>string</b> - последовательность символов, легко читаемая человеком.\n",
    "\n",
    "Последовательность символов не может напрямую быть помещена в память компьютера.<br>\n",
    "Поэтому сначала она кодируется (encode) в bytestring.<br>\n",
    "Существует много типов кодировок, с помощью которых можно конвертировать string в bytestring, например ASCII и UTF-8."
   ]
  },
  {
   "cell_type": "markdown",
   "metadata": {},
   "source": [
    "### Задание строк - префиксы b, u, r, f и их комбинации. Encode / decode"
   ]
  },
  {
   "cell_type": "markdown",
   "metadata": {},
   "source": [
    "#### 1) b или B - bytestring\n",
    "They may only contain ASCII characters; bytes with a numeric value of 128 or greater must be expressed with escapes."
   ]
  },
  {
   "cell_type": "code",
   "execution_count": 1,
   "metadata": {},
   "outputs": [
    {
     "name": "stdout",
     "output_type": "stream",
     "text": [
      "b'I am a bytestring'\n",
      "b'I am a bytestring'\n"
     ]
    }
   ],
   "source": [
    "print(b'I am a bytestring')\n",
    "print(B'I am a bytestring')"
   ]
  },
  {
   "cell_type": "markdown",
   "metadata": {},
   "source": [
    "С помощью метода <b>.encode</b> можно закодировать строку с указанием кодировки"
   ]
  },
  {
   "cell_type": "code",
   "execution_count": 2,
   "metadata": {
    "scrolled": false
   },
   "outputs": [
    {
     "data": {
      "text/plain": [
       "b'I am a string'"
      ]
     },
     "execution_count": 2,
     "metadata": {},
     "output_type": "execute_result"
    }
   ],
   "source": [
    "'I am a string'.encode('ASCII')"
   ]
  },
  {
   "cell_type": "markdown",
   "metadata": {},
   "source": [
    "Если знаем в какой кодировке была закодирована строка, можно ее раскодировать обратно в string"
   ]
  },
  {
   "cell_type": "code",
   "execution_count": 3,
   "metadata": {},
   "outputs": [
    {
     "data": {
      "text/plain": [
       "'I am a string'"
      ]
     },
     "execution_count": 3,
     "metadata": {},
     "output_type": "execute_result"
    }
   ],
   "source": [
    "b'I am a string'.decode('ASCII')"
   ]
  },
  {
   "cell_type": "markdown",
   "metadata": {},
   "source": [
    "bytestring может содержать только ASCII символы.<br>\n",
    "Байты с числовым сначением, большим чем 128 (включительно), должны быть написаны с символом backslash <b>'\\'</b> перед каждым символом."
   ]
  },
  {
   "cell_type": "code",
   "execution_count": 4,
   "metadata": {},
   "outputs": [
    {
     "data": {
      "text/plain": [
       "b'\\xe4\\xbd\\xa0\\xe5\\xa5\\xbd'"
      ]
     },
     "execution_count": 4,
     "metadata": {},
     "output_type": "execute_result"
    }
   ],
   "source": [
    "'你好'.encode('UTF-8')"
   ]
  },
  {
   "cell_type": "code",
   "execution_count": 5,
   "metadata": {},
   "outputs": [
    {
     "data": {
      "text/plain": [
       "'你好'"
      ]
     },
     "execution_count": 5,
     "metadata": {},
     "output_type": "execute_result"
    }
   ],
   "source": [
    "b'\\xe4\\xbd\\xa0\\xe5\\xa5\\xbd'.decode('UTF-8')"
   ]
  },
  {
   "cell_type": "markdown",
   "metadata": {},
   "source": [
    "#### 2) u или U - строки в Unicode\n",
    "\n",
    "По умолчанию Python 2 использует алфавит ASCII. ASCII даже с расширениями ограничен парой сотен символов, и, очевидно, является не самым гибким методом кодирования, особенно это касается символов, не относящихся к английскому алфавиту.\n",
    "\n",
    "Более универсальный и надежный метод кодировки символов Unicode поддерживает более 128 000 символов. Чтобы использовать Unicode, в Python 2 нужно начинать строку с префикса u."
   ]
  },
  {
   "cell_type": "markdown",
   "metadata": {},
   "source": [
    "Python 3 использует Unicode по умолчанию. Это не только экономит время разработчика, но и открывает доступ к огромному набору символов. Unicode поддерживает разнообразные символы и эмодзи, а также гарантирует поддержку проекта на мобильных устройствах.\n",
    "\n",
    "Если вы хотите сделать код Python 3 обратно совместимым с Python 2, вы можете по-прежнему использовать префикс u."
   ]
  },
  {
   "cell_type": "code",
   "execution_count": 6,
   "metadata": {},
   "outputs": [
    {
     "data": {
      "text/plain": [
       "'Hello, World!'"
      ]
     },
     "execution_count": 6,
     "metadata": {},
     "output_type": "execute_result"
    }
   ],
   "source": [
    "u\"Hello, World!\""
   ]
  },
  {
   "cell_type": "markdown",
   "metadata": {},
   "source": [
    "Чтобы вывести символ Unicode внутри строки, нужно написать его в сыром виде \\uXXXX"
   ]
  },
  {
   "cell_type": "code",
   "execution_count": 7,
   "metadata": {},
   "outputs": [
    {
     "data": {
      "text/plain": [
       "\"It's a Unicode literal ሢ\""
      ]
     },
     "execution_count": 7,
     "metadata": {},
     "output_type": "execute_result"
    }
   ],
   "source": [
    "\"It's a Unicode literal \\u1222\""
   ]
  },
  {
   "cell_type": "markdown",
   "metadata": {},
   "source": [
    "#### 3) r или R - тип \"сырой\" строки raw string: backslashes воспринимаются как обычный символ\n",
    "\n",
    "Символ '\\' кодируется в '\\\\'"
   ]
  },
  {
   "cell_type": "code",
   "execution_count": 8,
   "metadata": {},
   "outputs": [
    {
     "data": {
      "text/plain": [
       "'\\\\xe4\\\\xbd\\\\xa0\\\\xe5\\\\xa5\\\\xbd'"
      ]
     },
     "execution_count": 8,
     "metadata": {},
     "output_type": "execute_result"
    }
   ],
   "source": [
    "br'\\xe4\\xbd\\xa0\\xe5\\xa5\\xbd'.decode('UTF-8')"
   ]
  },
  {
   "cell_type": "markdown",
   "metadata": {},
   "source": [
    "Raw string не воспринимает префикс '\\U' и '\\u'.<br>\n",
    "Также в Python 2.x’s unicode символы в сыром виде ведут себя иначе, чем в Python 3.x.\n",
    "\n",
    "По этим причинам совместное использование 'ur' не поддерживается."
   ]
  },
  {
   "cell_type": "markdown",
   "metadata": {},
   "source": [
    "#### 4) f или F - форматированные строки"
   ]
  },
  {
   "cell_type": "code",
   "execution_count": 9,
   "metadata": {},
   "outputs": [
    {
     "data": {
      "text/plain": [
       "'He said his name is Fred and he is 42 years old.'"
      ]
     },
     "execution_count": 9,
     "metadata": {},
     "output_type": "execute_result"
    }
   ],
   "source": [
    "name = 'Fred'\n",
    "age = 42\n",
    "\n",
    "f'He said his name is {name} and he is {age} years old.'"
   ]
  },
  {
   "cell_type": "markdown",
   "metadata": {},
   "source": [
    "Это то же самое, что и метод <b>.format()</b>, однако способом выше можно вставлять переменные напрямую в строку.<br>"
   ]
  },
  {
   "cell_type": "markdown",
   "metadata": {},
   "source": [
    "'f' можно использовать с 'r', но нельзя с 'b' или 'u'"
   ]
  },
  {
   "cell_type": "markdown",
   "metadata": {},
   "source": [
    "## 4.2.2. Операции со строками"
   ]
  },
  {
   "cell_type": "markdown",
   "metadata": {},
   "source": [
    "### str.split"
   ]
  },
  {
   "cell_type": "markdown",
   "metadata": {
    "collapsed": true
   },
   "source": [
    "<b>str.split(sep=None, maxsplit=-1)</b> - возвращает список, элементами которого являются части строки\n",
    "\n",
    "sep - символ по которому будет производиться разбиение строки.<br>\n",
    "Если sep не указан или None, разбиение идет по пробельным символам.<br>\n",
    "Пустые строки убираются из списка.\n",
    "\n",
    "maxsplit - максимальное число разбиений строки<br>\n",
    "maxsplit=-1 значит максимально возможное число разбиений"
   ]
  },
  {
   "cell_type": "code",
   "execution_count": 10,
   "metadata": {},
   "outputs": [
    {
     "data": {
      "text/plain": [
       "['A', 'B']"
      ]
     },
     "execution_count": 10,
     "metadata": {},
     "output_type": "execute_result"
    }
   ],
   "source": [
    "'A B'.split()"
   ]
  },
  {
   "cell_type": "code",
   "execution_count": 11,
   "metadata": {},
   "outputs": [
    {
     "data": {
      "text/plain": [
       "['First part of string', 'second part; third']"
      ]
     },
     "execution_count": 11,
     "metadata": {},
     "output_type": "execute_result"
    }
   ],
   "source": [
    "s = 'First part of string;second part; third'\n",
    "s.split(sep=';', maxsplit=1)"
   ]
  },
  {
   "cell_type": "markdown",
   "metadata": {},
   "source": [
    "### str.startswith"
   ]
  },
  {
   "cell_type": "markdown",
   "metadata": {
    "collapsed": true
   },
   "source": [
    "<b>str.startswith(prefix[, start[, end]])</b>\n",
    "\n",
    "Возвращает <b>True</b>, если строка начинается с указанного префикса, <b>False</b> - иначе.<br>\n",
    "Опциональный параметр <b>start</b> - начать проверку строки с этой позиции.<br>\n",
    "Опциональный параметр <b>end</b> - закончить проверку строки на этой позиции."
   ]
  },
  {
   "cell_type": "code",
   "execution_count": 12,
   "metadata": {},
   "outputs": [],
   "source": [
    "s = 'I am a string'"
   ]
  },
  {
   "cell_type": "code",
   "execution_count": 13,
   "metadata": {},
   "outputs": [
    {
     "data": {
      "text/plain": [
       "True"
      ]
     },
     "execution_count": 13,
     "metadata": {},
     "output_type": "execute_result"
    }
   ],
   "source": [
    "s.startswith('I')"
   ]
  },
  {
   "cell_type": "code",
   "execution_count": 14,
   "metadata": {},
   "outputs": [
    {
     "data": {
      "text/plain": [
       "False"
      ]
     },
     "execution_count": 14,
     "metadata": {},
     "output_type": "execute_result"
    }
   ],
   "source": [
    "s.startswith('I', 1)"
   ]
  },
  {
   "cell_type": "markdown",
   "metadata": {},
   "source": [
    "### str.endswith"
   ]
  },
  {
   "cell_type": "markdown",
   "metadata": {},
   "source": [
    "Аналогично str.startswith, только проверка на окончание строки указанным префиксом."
   ]
  },
  {
   "cell_type": "code",
   "execution_count": 15,
   "metadata": {},
   "outputs": [
    {
     "data": {
      "text/plain": [
       "True"
      ]
     },
     "execution_count": 15,
     "metadata": {},
     "output_type": "execute_result"
    }
   ],
   "source": [
    "s.endswith('g')"
   ]
  },
  {
   "cell_type": "markdown",
   "metadata": {},
   "source": [
    "### Вхождение подстроки в строку"
   ]
  },
  {
   "cell_type": "markdown",
   "metadata": {
    "collapsed": true
   },
   "source": [
    "<b>str.find(str, [start],[end])</b> - Поиск подстроки в строке. Возвращает номер первого вхождения или -1<br>\n",
    "<b>str.rfind(str, [start],[end])</b> - Поиск подстроки в строке. Возвращает номер последнего вхождения или -1<br><br>\n",
    "<b>str.index(str, [start],[end])</b> - Поиск подстроки в строке. Возвращает номер первого вхождения или вызывает ValueError<br>\n",
    "<b>str.rindex(str, [start],[end])</b> - Поиск подстроки в строке. Возвращает номер последнего вхождения или вызывает ValueError"
   ]
  },
  {
   "cell_type": "code",
   "execution_count": 16,
   "metadata": {},
   "outputs": [
    {
     "data": {
      "text/plain": [
       "0"
      ]
     },
     "execution_count": 16,
     "metadata": {},
     "output_type": "execute_result"
    }
   ],
   "source": [
    "s.find('I am')"
   ]
  },
  {
   "cell_type": "code",
   "execution_count": 17,
   "metadata": {},
   "outputs": [
    {
     "data": {
      "text/plain": [
       "5"
      ]
     },
     "execution_count": 17,
     "metadata": {},
     "output_type": "execute_result"
    }
   ],
   "source": [
    "s.rindex('a')"
   ]
  },
  {
   "cell_type": "markdown",
   "metadata": {},
   "source": [
    "### str.join"
   ]
  },
  {
   "cell_type": "markdown",
   "metadata": {
    "collapsed": true
   },
   "source": [
    "<b>str.join(список)</b> - возвращает строку, составленную из элементов списка, разделителем между которыми является строка str"
   ]
  },
  {
   "cell_type": "code",
   "execution_count": 18,
   "metadata": {},
   "outputs": [
    {
     "data": {
      "text/plain": [
       "'First I am a string Second'"
      ]
     },
     "execution_count": 18,
     "metadata": {},
     "output_type": "execute_result"
    }
   ],
   "source": [
    "s.join(['First ', ' Second'])"
   ]
  },
  {
   "cell_type": "markdown",
   "metadata": {},
   "source": [
    "### str.isalnum"
   ]
  },
  {
   "cell_type": "markdown",
   "metadata": {
    "collapsed": true
   },
   "source": [
    "<b>str.isalnum()</b> - возвращает True, если непустая строка состоит только из цифр или только из букв, иначе False"
   ]
  },
  {
   "cell_type": "code",
   "execution_count": 19,
   "metadata": {},
   "outputs": [
    {
     "data": {
      "text/plain": [
       "False"
      ]
     },
     "execution_count": 19,
     "metadata": {},
     "output_type": "execute_result"
    }
   ],
   "source": [
    "# Здесь будет False, потому что строка s содержит знак пробела\n",
    "\n",
    "s.isalnum()"
   ]
  },
  {
   "cell_type": "code",
   "execution_count": 20,
   "metadata": {},
   "outputs": [
    {
     "data": {
      "text/plain": [
       "True"
      ]
     },
     "execution_count": 20,
     "metadata": {},
     "output_type": "execute_result"
    }
   ],
   "source": [
    "'123'.isalnum()"
   ]
  },
  {
   "cell_type": "markdown",
   "metadata": {},
   "source": [
    "### str.isdigit"
   ]
  },
  {
   "cell_type": "markdown",
   "metadata": {},
   "source": [
    "<b>str.isdigit()</b> - возвращает True, если непустая строка состоит из цифр, иначе False"
   ]
  },
  {
   "cell_type": "code",
   "execution_count": 21,
   "metadata": {},
   "outputs": [
    {
     "data": {
      "text/plain": [
       "False"
      ]
     },
     "execution_count": 21,
     "metadata": {},
     "output_type": "execute_result"
    }
   ],
   "source": [
    "s.isdigit()"
   ]
  },
  {
   "cell_type": "code",
   "execution_count": 22,
   "metadata": {},
   "outputs": [
    {
     "data": {
      "text/plain": [
       "True"
      ]
     },
     "execution_count": 22,
     "metadata": {},
     "output_type": "execute_result"
    }
   ],
   "source": [
    "'123'.isdigit()"
   ]
  },
  {
   "cell_type": "markdown",
   "metadata": {},
   "source": [
    "### str.lower, str.upper, str.capitalize"
   ]
  },
  {
   "cell_type": "markdown",
   "metadata": {
    "collapsed": true
   },
   "source": [
    "<b>str.upper()</b> -  преобразование строки к верхнему регистру<br>\n",
    "<b>str.lower()</b> - преобразование строки к нижнему регистру<br>\n",
    "<b>str.capitalize()</b> - переводит первый символ строки в верхний регистр, а все остальные в нижний"
   ]
  },
  {
   "cell_type": "code",
   "execution_count": 23,
   "metadata": {},
   "outputs": [
    {
     "name": "stdout",
     "output_type": "stream",
     "text": [
      "I AM A STRING\n",
      "i am a string\n",
      "I am a string\n"
     ]
    }
   ],
   "source": [
    "print(s.upper(), s.lower(), s.capitalize(), sep='\\n')"
   ]
  },
  {
   "cell_type": "markdown",
   "metadata": {},
   "source": [
    "### str.ljust, str.rjust, str.lstrip, str.strip, str.rstrip"
   ]
  },
  {
   "cell_type": "markdown",
   "metadata": {
    "collapsed": true
   },
   "source": [
    "<b>S.ljust(width[, fillchar])</b> - делает длину строки не меньшей width, по необходимости заполняя последние символы символом fillchar (по умолчанию пробел)<br>\n",
    "<b>S.rjust(width[, fillchar])</b> - делает длину строки не меньшей width, по необходимости заполняя первые символы символом fillchar (по умолчанию пробел)"
   ]
  },
  {
   "cell_type": "code",
   "execution_count": 24,
   "metadata": {},
   "outputs": [
    {
     "data": {
      "text/plain": [
       "'I am a string_______'"
      ]
     },
     "execution_count": 24,
     "metadata": {},
     "output_type": "execute_result"
    }
   ],
   "source": [
    "s.ljust(20, '_')"
   ]
  },
  {
   "cell_type": "markdown",
   "metadata": {},
   "source": [
    "<b>S.lstrip([chars])</b> - удаление указанных символов в начале строки (по умолчанию пробел)<br>\n",
    "<b>S.rstrip([chars])</b> - удаление указанных символов в конце строки (по умолчанию пробел)<br>\n",
    "<b>S.strip([chars])</b> - удаление указанных символов в начале и в конце строки (по умолчанию пробел)"
   ]
  },
  {
   "cell_type": "code",
   "execution_count": 25,
   "metadata": {},
   "outputs": [
    {
     "data": {
      "text/plain": [
       "'  asd '"
      ]
     },
     "execution_count": 25,
     "metadata": {},
     "output_type": "execute_result"
    }
   ],
   "source": [
    "'  asd '.strip('a')"
   ]
  },
  {
   "cell_type": "code",
   "execution_count": 26,
   "metadata": {},
   "outputs": [
    {
     "data": {
      "text/plain": [
       "'    asd   '"
      ]
     },
     "execution_count": 26,
     "metadata": {},
     "output_type": "execute_result"
    }
   ],
   "source": [
    "'a    asd   a'.strip('a')"
   ]
  },
  {
   "cell_type": "markdown",
   "metadata": {},
   "source": [
    "## Форматирование строк (часть 1)"
   ]
  },
  {
   "cell_type": "markdown",
   "metadata": {},
   "source": [
    "### Оператор %"
   ]
  },
  {
   "cell_type": "markdown",
   "metadata": {},
   "source": [
    "Выражение форматирования выглядит следующим образом:<br>\n",
    "\n",
    "<b>определение_формата + % + объект(ы)</b>"
   ]
  },
  {
   "cell_type": "markdown",
   "metadata": {},
   "source": [
    "Подставляем один аргумент:"
   ]
  },
  {
   "cell_type": "code",
   "execution_count": 27,
   "metadata": {},
   "outputs": [
    {
     "data": {
      "text/plain": [
       "'Nice to meet you, Victor!'"
      ]
     },
     "execution_count": 27,
     "metadata": {},
     "output_type": "execute_result"
    }
   ],
   "source": [
    "'Nice to meet you, %s!' % 'Victor'"
   ]
  },
  {
   "cell_type": "markdown",
   "metadata": {},
   "source": [
    "Подставляем несколько аргументов:"
   ]
  },
  {
   "cell_type": "code",
   "execution_count": 28,
   "metadata": {},
   "outputs": [
    {
     "data": {
      "text/plain": [
       "'7 Oct, 2017'"
      ]
     },
     "execution_count": 28,
     "metadata": {},
     "output_type": "execute_result"
    }
   ],
   "source": [
    "'%d %s, %d' % (7, 'Oct', 2017)"
   ]
  },
  {
   "cell_type": "markdown",
   "metadata": {},
   "source": [
    "В зависимости от того, что мы используем в качестве подстановки и что мы хотим получить в итоге, пишем разные значения:\n",
    "\n",
    "<b>'%f', '%F'</b> - число с плавающей точкой<br>\n",
    "<b>%d', '%i', '%u'</b>\t- целое число в десятичной системе<br>\n",
    "<b>%x', '%X'</b>\t- целое число в шестнадцатиричной системе (маленькими или заглавными буквами соответственно)<br>\n",
    "\n",
    "<b>'%s'</b>\t- строка (как обычно воспринимается пользователем)<br>\n",
    "<b>'%c'</b>\t- символ (строка из одного символа или число - код символа)<br>\n",
    "\n",
    "<b>'%%'</b>\t- знак '%'"
   ]
  },
  {
   "cell_type": "markdown",
   "metadata": {
    "collapsed": true
   },
   "source": [
    "### str.format"
   ]
  },
  {
   "cell_type": "markdown",
   "metadata": {},
   "source": [
    "<b>1)</b> Метод форматирования <b>str.format()</b> добавляют в строку один или несколько заполнителей, которые определяются фигурными скобками <b>{}</b>.<br>\n",
    "Вы можете передать методу любое значение, которое необходимо вставить в строку.<br>\n",
    "При запуске программы это значение будет добавлено в строку в то место, где находятся фигурные скобки."
   ]
  },
  {
   "cell_type": "code",
   "execution_count": 29,
   "metadata": {},
   "outputs": [
    {
     "data": {
      "text/plain": [
       "'I have been waiting you for 3 hours.'"
      ]
     },
     "execution_count": 29,
     "metadata": {},
     "output_type": "execute_result"
    }
   ],
   "source": [
    "\"I have been waiting you for {} hours.\".format(3)"
   ]
  },
  {
   "cell_type": "markdown",
   "metadata": {},
   "source": [
    "Также можно сохранить строку с заменителем в переменной"
   ]
  },
  {
   "cell_type": "code",
   "execution_count": 30,
   "metadata": {},
   "outputs": [
    {
     "data": {
      "text/plain": [
       "'I have been waiting you for 3 hours.'"
      ]
     },
     "execution_count": 30,
     "metadata": {},
     "output_type": "execute_result"
    }
   ],
   "source": [
    "apple_string = \"I have been waiting you for {}.\"\n",
    "apple_string.format(\"3 hours\")"
   ]
  },
  {
   "cell_type": "markdown",
   "metadata": {},
   "source": [
    "#### 2) Множественная замена"
   ]
  },
  {
   "cell_type": "markdown",
   "metadata": {},
   "source": [
    "В строке можно использовать несколько заменителей"
   ]
  },
  {
   "cell_type": "code",
   "execution_count": 31,
   "metadata": {},
   "outputs": [
    {
     "data": {
      "text/plain": [
       "'My name is Bond, James Bond.'"
      ]
     },
     "execution_count": 31,
     "metadata": {},
     "output_type": "execute_result"
    }
   ],
   "source": [
    "new_apple_string = \"My name is {}, {}.\"         #2 {} заменителя\n",
    "new_apple_string.format(\"Bond\", \"James Bond\")   #Значения нужно разделить запятой"
   ]
  },
  {
   "cell_type": "markdown",
   "metadata": {},
   "source": [
    "Если фигурные скобки передаются без каких-либо параметров, Python вставит значения, переданные с помощью метода str.format (), по порядку"
   ]
  },
  {
   "cell_type": "code",
   "execution_count": 32,
   "metadata": {},
   "outputs": [
    {
     "data": {
      "text/plain": [
       "'My brother Vladimir has a nice job'"
      ]
     },
     "execution_count": 32,
     "metadata": {},
     "output_type": "execute_result"
    }
   ],
   "source": [
    "\"My brother {} has a {}\".format(\"Vladimir\", \"nice job\")"
   ]
  },
  {
   "cell_type": "markdown",
   "metadata": {},
   "source": [
    "Первая пара фигурных скобок заменяется первым значением метода, вторая пара – вторым значением. Значения метода выглядят так"
   ]
  },
  {
   "cell_type": "code",
   "execution_count": 33,
   "metadata": {},
   "outputs": [
    {
     "data": {
      "text/plain": [
       "('Vladimir', 'nice job')"
      ]
     },
     "execution_count": 33,
     "metadata": {},
     "output_type": "execute_result"
    }
   ],
   "source": [
    "(\"Vladimir\", \"nice job\")"
   ]
  },
  {
   "cell_type": "markdown",
   "metadata": {},
   "source": [
    "Эти данные являются кортежем. Любое значение кортежа можно вызвать с помощью индекса – порядкового номера (начиная с 0)."
   ]
  },
  {
   "cell_type": "markdown",
   "metadata": {},
   "source": [
    "Вы можете использовать эти индексы внутри фигурных скобок:"
   ]
  },
  {
   "cell_type": "code",
   "execution_count": 34,
   "metadata": {},
   "outputs": [
    {
     "data": {
      "text/plain": [
       "'My brother Vladimir has a nice job'"
      ]
     },
     "execution_count": 34,
     "metadata": {},
     "output_type": "execute_result"
    }
   ],
   "source": [
    "\"My brother {0} has a {1}\".format(\"Vladimir\", \"nice job\")"
   ]
  },
  {
   "cell_type": "markdown",
   "metadata": {},
   "source": [
    "Если вы вызовете значение с индексом 2, а в методе значения с таким индексом нет, программа вернёт ошибку"
   ]
  },
  {
   "cell_type": "code",
   "execution_count": 36,
   "metadata": {},
   "outputs": [
    {
     "ename": "IndexError",
     "evalue": "tuple index out of range",
     "output_type": "error",
     "traceback": [
      "\u001b[0;31m---------------------------------------------------------------------------\u001b[0m",
      "\u001b[0;31mIndexError\u001b[0m                                Traceback (most recent call last)",
      "\u001b[0;32m<ipython-input-36-b8a3f1104614>\u001b[0m in \u001b[0;36m<module>\u001b[0;34m()\u001b[0m\n\u001b[0;32m----> 1\u001b[0;31m \u001b[0;34m\"My brother {0} has a {2}\"\u001b[0m\u001b[0;34m.\u001b[0m\u001b[0mformat\u001b[0m\u001b[0;34m(\u001b[0m\u001b[0;34m\"Vladimir\"\u001b[0m\u001b[0;34m,\u001b[0m \u001b[0;34m\"nice job\"\u001b[0m\u001b[0;34m)\u001b[0m\u001b[0;34m\u001b[0m\u001b[0m\n\u001b[0m",
      "\u001b[0;31mIndexError\u001b[0m: tuple index out of range"
     ]
    }
   ],
   "source": [
    "\"My brother {0} has a {2}\".format(\"Vladimir\", \"nice job\")"
   ]
  },
  {
   "cell_type": "markdown",
   "metadata": {},
   "source": [
    "Это значит, что запрашиваемый индекс находится вне диапазона кортежа (в данном случае это числа от 0 до 1 включительно, т.е. 0 и 1)."
   ]
  },
  {
   "cell_type": "markdown",
   "metadata": {},
   "source": [
    "#### 3) Типы"
   ]
  },
  {
   "cell_type": "markdown",
   "metadata": {},
   "source": [
    "В фигурные скобки можно добавить больше параметров.<br>\n",
    "Попробуйте использовать синтаксис {field_name:conversion}, где field_name задаёт индекс аргумента метода str.format(), а conversion – тип данных с помощью односимвольного кода, который использует Python.<br>\n",
    "\n",
    "s – строки (string)<br>\n",
    "d – десятичные числа (decimal)<br>\n",
    "f – число с плавающей точкой (float)"
   ]
  },
  {
   "cell_type": "code",
   "execution_count": 37,
   "metadata": {},
   "outputs": [
    {
     "data": {
      "text/plain": [
       "'Sam ate 50.000000 percent of a pizza!'"
      ]
     },
     "execution_count": 37,
     "metadata": {},
     "output_type": "execute_result"
    }
   ],
   "source": [
    "\"Sam ate {0:f} percent of a {1}!\".format(50, \"pizza\")"
   ]
  },
  {
   "cell_type": "markdown",
   "metadata": {},
   "source": [
    "В первых фигурных скобках был использован синтаксис {field_name:conversion}, в остальных заполнителях используется только номер индекса."
   ]
  },
  {
   "cell_type": "markdown",
   "metadata": {},
   "source": [
    "Вы можете ограничить количество нулей после точки. Указывая тип f, вы можете дополнительно задать точность значения; для этого добавьте точку, затем укажите количество цифр, которое должно идти после запятой, а затем – сам тип."
   ]
  },
  {
   "cell_type": "code",
   "execution_count": 38,
   "metadata": {},
   "outputs": [
    {
     "data": {
      "text/plain": [
       "'Sam ate 50.622 percent of a pizza!'"
      ]
     },
     "execution_count": 38,
     "metadata": {},
     "output_type": "execute_result"
    }
   ],
   "source": [
    "\"Sam ate {0:.3f} percent of a pizza!\".format(50.621987)"
   ]
  },
  {
   "cell_type": "markdown",
   "metadata": {},
   "source": [
    "Как видите, несмотря на то, что в значении после точки идёт 6 символов, в строке отображается только три символа"
   ]
  },
  {
   "cell_type": "markdown",
   "metadata": {},
   "source": [
    "Попробуйте уменьшить количество символов после точки до одного"
   ]
  },
  {
   "cell_type": "code",
   "execution_count": 39,
   "metadata": {},
   "outputs": [
    {
     "data": {
      "text/plain": [
       "'Sam ate 50.6 percent of a pizza!'"
      ]
     },
     "execution_count": 39,
     "metadata": {},
     "output_type": "execute_result"
    }
   ],
   "source": [
    "\"Sam ate {0:.1f} percent of a pizza!\".format(50.621987)"
   ]
  },
  {
   "cell_type": "markdown",
   "metadata": {},
   "source": [
    "Попробуйте изменить тип данных на десятичные числа"
   ]
  },
  {
   "cell_type": "code",
   "execution_count": 40,
   "metadata": {},
   "outputs": [
    {
     "ename": "ValueError",
     "evalue": "Format specifier missing precision",
     "output_type": "error",
     "traceback": [
      "\u001b[0;31m---------------------------------------------------------------------------\u001b[0m",
      "\u001b[0;31mValueError\u001b[0m                                Traceback (most recent call last)",
      "\u001b[0;32m<ipython-input-40-9f44dec3fe66>\u001b[0m in \u001b[0;36m<module>\u001b[0;34m()\u001b[0m\n\u001b[0;32m----> 1\u001b[0;31m \u001b[0;34m\"Sam ate {0:.d} percent of a pizza!\"\u001b[0m\u001b[0;34m.\u001b[0m\u001b[0mformat\u001b[0m\u001b[0;34m(\u001b[0m\u001b[0;36m50.621987\u001b[0m\u001b[0;34m)\u001b[0m\u001b[0;34m\u001b[0m\u001b[0m\n\u001b[0m",
      "\u001b[0;31mValueError\u001b[0m: Format specifier missing precision"
     ]
    }
   ],
   "source": [
    "\"Sam ate {0:.d} percent of a pizza!\".format(50.621987)"
   ]
  },
  {
   "cell_type": "markdown",
   "metadata": {},
   "source": [
    "Выведем только целое число и опустим все символы после точки"
   ]
  },
  {
   "cell_type": "code",
   "execution_count": 41,
   "metadata": {},
   "outputs": [
    {
     "data": {
      "text/plain": [
       "'Sam ate 51 percent of a pizza!'"
      ]
     },
     "execution_count": 41,
     "metadata": {},
     "output_type": "execute_result"
    }
   ],
   "source": [
    "\"Sam ate {0:.0f} percent of a pizza!\".format(50.621987)"
   ]
  },
  {
   "cell_type": "markdown",
   "metadata": {},
   "source": [
    "## Форматирование строк (часть 2)"
   ]
  },
  {
   "cell_type": "markdown",
   "metadata": {},
   "source": [
    "### Продолжаем знакомство с str.format"
   ]
  },
  {
   "cell_type": "markdown",
   "metadata": {},
   "source": [
    "#### 4) Отступы в переменных"
   ]
  },
  {
   "cell_type": "markdown",
   "metadata": {},
   "source": [
    "Чтобы создать внутренние отступы в заполнителях, вы можете просто увеличить размер поля с помощью дополнительных параметров.<br>\n"
   ]
  },
  {
   "cell_type": "markdown",
   "metadata": {},
   "source": [
    "Для этого добавьте в фигурные скобки после индекса через двоеточие длину поля (в символах)"
   ]
  },
  {
   "cell_type": "code",
   "execution_count": 42,
   "metadata": {},
   "outputs": [
    {
     "data": {
      "text/plain": [
       "'Tom has    5 red apples    !'"
      ]
     },
     "execution_count": 42,
     "metadata": {},
     "output_type": "execute_result"
    }
   ],
   "source": [
    "\"Tom has {0:4} red {1:10}!\".format(5, \"apples\")"
   ]
  },
  {
   "cell_type": "markdown",
   "metadata": {},
   "source": [
    "По умолчанию строки выравниваются внутри поля по левому краю, а числа – по правому краю.<br>\n",
    "Это можно изменить с помощью символов:\n",
    "\n",
    "< — выравнивание по левому краю<br>\n",
    "^ — выравнивание по центру<br>\n",
    "\\> — выравнивание по правому краю."
   ]
  },
  {
   "cell_type": "markdown",
   "metadata": {},
   "source": [
    "Символ указывается после двоеточия.<br>\n",
    "Например, чтобы выровнять объект в первых фигурных скобках по левому краю, а во вторых – по центру, нужно ввести"
   ]
  },
  {
   "cell_type": "code",
   "execution_count": 43,
   "metadata": {},
   "outputs": [
    {
     "data": {
      "text/plain": [
       "'Tom has 5    red   apples  !'"
      ]
     },
     "execution_count": 43,
     "metadata": {},
     "output_type": "execute_result"
    }
   ],
   "source": [
    "\"Tom has {0:<4} red {1:^10}!\".format(5, \"apples\")"
   ]
  },
  {
   "cell_type": "markdown",
   "metadata": {},
   "source": [
    "По умолчанию Python заполняет свободное пространство внутри поля пробелами. Вы можете выбрать другой символ для заполнения. Его нужно указать сразу после двоеточия. "
   ]
  },
  {
   "cell_type": "code",
   "execution_count": 44,
   "metadata": {},
   "outputs": [
    {
     "data": {
      "text/plain": [
       "'*******Hello********'"
      ]
     },
     "execution_count": 44,
     "metadata": {},
     "output_type": "execute_result"
    }
   ],
   "source": [
    "\"{:*^20s}\".format(\"Hello\")"
   ]
  },
  {
   "cell_type": "markdown",
   "metadata": {},
   "source": [
    "Эти параметры можно комбинировать с другими параметрами"
   ]
  },
  {
   "cell_type": "code",
   "execution_count": 45,
   "metadata": {},
   "outputs": [
    {
     "data": {
      "text/plain": [
       "'Sam ate    51 percent of a pizza!'"
      ]
     },
     "execution_count": 45,
     "metadata": {},
     "output_type": "execute_result"
    }
   ],
   "source": [
    "\"Sam ate {0:5.0f} percent of a pizza!\".format(50.621987)"
   ]
  },
  {
   "cell_type": "markdown",
   "metadata": {},
   "source": [
    "В фигурных скобках указан индекс, длина поля в символах, затем количество символов после точки и тип данных"
   ]
  },
  {
   "cell_type": "markdown",
   "metadata": {},
   "source": [
    "#### 5) Переменные"
   ]
  },
  {
   "cell_type": "code",
   "execution_count": 46,
   "metadata": {},
   "outputs": [
    {
     "data": {
      "text/plain": [
       "'Tommy has 8 apples today!'"
      ]
     },
     "execution_count": 46,
     "metadata": {},
     "output_type": "execute_result"
    }
   ],
   "source": [
    "n_apples = 8\n",
    "\"Tommy has {} apples today!\".format(n_apples)"
   ]
  },
  {
   "cell_type": "markdown",
   "metadata": {},
   "source": [
    "Можно и исходную строку поместить в переменную"
   ]
  },
  {
   "cell_type": "code",
   "execution_count": 47,
   "metadata": {},
   "outputs": [
    {
     "data": {
      "text/plain": [
       "'Tommy has 8 apples today!'"
      ]
     },
     "execution_count": 47,
     "metadata": {},
     "output_type": "execute_result"
    }
   ],
   "source": [
    "tommy = \"Tommy has {} apples today!\"\n",
    "n_apples = 8\n",
    "tommy.format(n_apples)"
   ]
  },
  {
   "cell_type": "markdown",
   "metadata": {},
   "source": [
    "#### 6) Организация данных"
   ]
  },
  {
   "cell_type": "markdown",
   "metadata": {},
   "source": [
    "Функции форматирования позволяют структурировать большое количество данных. Чтобы сделать вывод удобочитаемым, можно увеличить размер поля и изменить выравнивание."
   ]
  },
  {
   "cell_type": "markdown",
   "metadata": {},
   "source": [
    "Рассмотрим типичный пример Python, который выведет числа $i$, $i^2$ и $i^3$ в диапазоне от 3 до 12"
   ]
  },
  {
   "cell_type": "code",
   "execution_count": 48,
   "metadata": {},
   "outputs": [
    {
     "name": "stdout",
     "output_type": "stream",
     "text": [
      "3 9 27\n",
      "4 16 64\n",
      "5 25 125\n",
      "6 36 216\n",
      "7 49 343\n",
      "8 64 512\n",
      "9 81 729\n",
      "10 100 1000\n",
      "11 121 1331\n",
      "12 144 1728\n"
     ]
    }
   ],
   "source": [
    "for i in range(3,13):\n",
    "    print(i, i ** 2, i ** 3)"
   ]
  },
  {
   "cell_type": "markdown",
   "metadata": {},
   "source": [
    "Этот вывод выглядит понятно, однако из-за сдвигов в нижней части наступает путаница. И чем больше символов будет в числе, тем большим будет сдвиг. В результате такой вывод будет неудобно читать."
   ]
  },
  {
   "cell_type": "markdown",
   "metadata": {},
   "source": [
    "Можно его отформатировать"
   ]
  },
  {
   "cell_type": "code",
   "execution_count": 49,
   "metadata": {},
   "outputs": [
    {
     "name": "stdout",
     "output_type": "stream",
     "text": [
      "  3    9    27\n",
      "  4   16    64\n",
      "  5   25   125\n",
      "  6   36   216\n",
      "  7   49   343\n",
      "  8   64   512\n",
      "  9   81   729\n",
      " 10  100  1000\n",
      " 11  121  1331\n",
      " 12  144  1728\n"
     ]
    }
   ],
   "source": [
    "for i in range(3,13):\n",
    "    print(\"{:3d} {:4d} {:5d}\".format(i, i*i, i*i*i))"
   ]
  },
  {
   "cell_type": "markdown",
   "metadata": {},
   "source": [
    "В данном случае фигурные скобки не содержат индекса.<br>\n",
    "После двоеточия сразу идёт размер поля, затем тип данных (d).<br>\n",
    "Таким образом, в каждом столбце окажется минимум один свободный символ."
   ]
  },
  {
   "cell_type": "markdown",
   "metadata": {},
   "source": [
    "Также можно задать одинаковое количество символов в каждом столбце."
   ]
  },
  {
   "cell_type": "code",
   "execution_count": 50,
   "metadata": {},
   "outputs": [
    {
     "name": "stdout",
     "output_type": "stream",
     "text": [
      "     3      9     27\n",
      "     4     16     64\n",
      "     5     25    125\n",
      "     6     36    216\n",
      "     7     49    343\n",
      "     8     64    512\n",
      "     9     81    729\n",
      "    10    100   1000\n",
      "    11    121   1331\n",
      "    12    144   1728\n"
     ]
    }
   ],
   "source": [
    "for i in range(3,13):\n",
    "    print(\"{:6d} {:6d} {:6d}\".format(i, i * i, i * i * i))"
   ]
  },
  {
   "cell_type": "code",
   "execution_count": null,
   "metadata": {},
   "outputs": [],
   "source": []
  }
 ],
 "metadata": {
  "anaconda-cloud": {},
  "kernelspec": {
   "display_name": "python_data_science",
   "language": "python",
   "name": "python_data_science"
  },
  "language_info": {
   "codemirror_mode": {
    "name": "ipython",
    "version": 3
   },
   "file_extension": ".py",
   "mimetype": "text/x-python",
   "name": "python",
   "nbconvert_exporter": "python",
   "pygments_lexer": "ipython3",
   "version": "3.6.6"
  }
 },
 "nbformat": 4,
 "nbformat_minor": 2
}
