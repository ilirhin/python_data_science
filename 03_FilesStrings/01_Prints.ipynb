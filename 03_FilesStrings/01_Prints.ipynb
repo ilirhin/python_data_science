{
 "cells": [
  {
   "cell_type": "markdown",
   "metadata": {},
   "source": [
    "# Работа с терминалом и знакомство со строками"
   ]
  },
  {
   "cell_type": "markdown",
   "metadata": {
    "collapsed": true
   },
   "source": [
    "## Вывод в терминал"
   ]
  },
  {
   "cell_type": "markdown",
   "metadata": {},
   "source": [
    "### Функция print и ее параметры"
   ]
  },
  {
   "cell_type": "markdown",
   "metadata": {
    "collapsed": true
   },
   "source": [
    "Параметры функции print<br>\n",
    "\n",
    "<b>print(*objects, sep=' ', end='\\n', file=sys.stdout, flush=False)</b>"
   ]
  },
  {
   "cell_type": "markdown",
   "metadata": {},
   "source": [
    "1) <b>*objects</b> - объекты, которые надо вывести"
   ]
  },
  {
   "cell_type": "code",
   "execution_count": 1,
   "metadata": {
    "scrolled": true
   },
   "outputs": [
    {
     "name": "stdout",
     "output_type": "stream",
     "text": [
      "first second\n"
     ]
    }
   ],
   "source": [
    "print('first', 'second')"
   ]
  },
  {
   "cell_type": "markdown",
   "metadata": {},
   "source": [
    "Объекты перед выводом привоятся к типу str"
   ]
  },
  {
   "cell_type": "code",
   "execution_count": 2,
   "metadata": {},
   "outputs": [
    {
     "name": "stdout",
     "output_type": "stream",
     "text": [
      "1 2\n"
     ]
    }
   ],
   "source": [
    "a = 1\n",
    "b = 2\n",
    "print(a, b)"
   ]
  },
  {
   "cell_type": "markdown",
   "metadata": {},
   "source": [
    "2) <b>sep</b> - разделитель между объектами<br>\n",
    "по умолчанию равен одному пробелу \" \""
   ]
  },
  {
   "cell_type": "code",
   "execution_count": 3,
   "metadata": {},
   "outputs": [
    {
     "name": "stdout",
     "output_type": "stream",
     "text": [
      "first_second\n"
     ]
    }
   ],
   "source": [
    "print('first', 'second', sep='_')"
   ]
  },
  {
   "cell_type": "markdown",
   "metadata": {},
   "source": [
    "3) <b>end</b> - символ, вставляемый в конце,<br>\n",
    "по умолчанию равен знаку конца строки \"/n\""
   ]
  },
  {
   "cell_type": "code",
   "execution_count": 4,
   "metadata": {},
   "outputs": [
    {
     "name": "stdout",
     "output_type": "stream",
     "text": [
      "first second;third fourth"
     ]
    }
   ],
   "source": [
    "print('first', 'second', end=';')\n",
    "print('third', 'fourth', end='')"
   ]
  },
  {
   "cell_type": "markdown",
   "metadata": {},
   "source": [
    "Если объекты не указаны, то print выводит параметр end"
   ]
  },
  {
   "cell_type": "code",
   "execution_count": 5,
   "metadata": {},
   "outputs": [
    {
     "name": "stdout",
     "output_type": "stream",
     "text": [
      "1\n",
      "\n",
      "2\n"
     ]
    }
   ],
   "source": [
    "print('1')\n",
    "print(end='\\n')\n",
    "print('2')"
   ]
  },
  {
   "cell_type": "markdown",
   "metadata": {},
   "source": [
    "Оба sep и end должны быть типа str"
   ]
  },
  {
   "cell_type": "markdown",
   "metadata": {},
   "source": [
    "4) Параметр <b>file</b> определяет, куда будет направлен поток вывода.<br>\n",
    "Аргумент параметра file должен быть объектом, у которого присутствует метод write(string).<br>\n",
    "По умолчанию используется стандартный вывод sys.stdout"
   ]
  },
  {
   "cell_type": "code",
   "execution_count": 6,
   "metadata": {},
   "outputs": [],
   "source": [
    "# Перенаправим поток вывода в файл output.txt\n",
    "\n",
    "output = open('output.txt', 'w')\n",
    "print('Hello, World!', file=output)    \n",
    "output.close()"
   ]
  },
  {
   "cell_type": "code",
   "execution_count": 7,
   "metadata": {},
   "outputs": [
    {
     "name": "stdout",
     "output_type": "stream",
     "text": [
      "Hello, World!\n",
      "\n"
     ]
    }
   ],
   "source": [
    "# Выведем содержимое файла output.txt\n",
    "\n",
    "output = open('output.txt', 'r')\n",
    "print(output.read())\n",
    "output.close()"
   ]
  },
  {
   "cell_type": "markdown",
   "metadata": {},
   "source": [
    "5) Параметр <b>flush</b> определяет, будет ли производиться запись в файл сразу или после того как все объекты будут готовы для записи"
   ]
  },
  {
   "cell_type": "code",
   "execution_count": 8,
   "metadata": {},
   "outputs": [],
   "source": [
    "# Так запись в файл происходит сразу\n",
    "\n",
    "import time\n",
    "output = open('output.txt', 'w')\n",
    " \n",
    "for i in range(3):\n",
    "    print(i, file=output, flush=True)\n",
    "    time.sleep(5)\n",
    "    \n",
    "output.close()"
   ]
  },
  {
   "cell_type": "code",
   "execution_count": 9,
   "metadata": {},
   "outputs": [],
   "source": [
    "# Так только после выхода из цикла\n",
    "\n",
    "import time\n",
    "output = open('output.txt', 'w')\n",
    " \n",
    "for i in range(3):\n",
    "    print(i, file=output)\n",
    "    time.sleep(5)\n",
    "    \n",
    "output.close()"
   ]
  },
  {
   "cell_type": "markdown",
   "metadata": {},
   "source": [
    "### sys.stdout и sys.stderr"
   ]
  },
  {
   "cell_type": "markdown",
   "metadata": {},
   "source": [
    "<b>sys.stdout</b> - стандартный вывод<br>\n",
    "<b>sys.stderr</b> - вывод ошибки"
   ]
  },
  {
   "cell_type": "code",
   "execution_count": 10,
   "metadata": {},
   "outputs": [],
   "source": [
    "import sys"
   ]
  },
  {
   "cell_type": "code",
   "execution_count": 11,
   "metadata": {},
   "outputs": [
    {
     "name": "stdout",
     "output_type": "stream",
     "text": [
      "Hello, World!\n"
     ]
    }
   ],
   "source": [
    "print('Hello, World!', file=sys.stdout)"
   ]
  },
  {
   "cell_type": "code",
   "execution_count": 12,
   "metadata": {},
   "outputs": [
    {
     "name": "stderr",
     "output_type": "stream",
     "text": [
      "Hello, World!\n"
     ]
    }
   ],
   "source": [
    "print('Hello, World!', file=sys.stderr)"
   ]
  },
  {
   "cell_type": "markdown",
   "metadata": {},
   "source": [
    "## Преобразование объектов в строки"
   ]
  },
  {
   "cell_type": "markdown",
   "metadata": {},
   "source": [
    "### str(var) и repr(var)"
   ]
  },
  {
   "cell_type": "markdown",
   "metadata": {
    "collapsed": true
   },
   "source": [
    "<b>str()</b> — возвращает объект в читабельной форме\n",
    "\n",
    "<b>repr()</b> — возвращает однозначное представление объекта"
   ]
  },
  {
   "cell_type": "code",
   "execution_count": 13,
   "metadata": {},
   "outputs": [
    {
     "name": "stdout",
     "output_type": "stream",
     "text": [
      "[0, 1, 2, 3]\n",
      "[0, 1, 2, 3]\n"
     ]
    }
   ],
   "source": [
    "x = [0, 1, 2, 3]\n",
    "\n",
    "print(str(x))\n",
    "print(repr(x))"
   ]
  },
  {
   "cell_type": "code",
   "execution_count": 14,
   "metadata": {},
   "outputs": [
    {
     "name": "stdout",
     "output_type": "stream",
     "text": [
      "Hello, World!\n",
      "'Hello, World!'\n"
     ]
    }
   ],
   "source": [
    "s = 'Hello, World!'\n",
    "\n",
    "print(str(s))\n",
    "print(repr(s))"
   ]
  },
  {
   "cell_type": "code",
   "execution_count": 15,
   "metadata": {},
   "outputs": [],
   "source": [
    "import datetime\n",
    "\n",
    "date = datetime.datetime(2017, 6, 5, 11, 22, 58, 874278)\n",
    "string = '2017-06-05 11:22:58.874278'"
   ]
  },
  {
   "cell_type": "code",
   "execution_count": 16,
   "metadata": {},
   "outputs": [
    {
     "name": "stdout",
     "output_type": "stream",
     "text": [
      "2017-06-05 11:22:58.874278\n",
      "2017-06-05 11:22:58.874278\n"
     ]
    }
   ],
   "source": [
    "# Видим, что результат работы функции str() одинаков\n",
    "\n",
    "print(str(date))\n",
    "print(str(string))"
   ]
  },
  {
   "cell_type": "code",
   "execution_count": 17,
   "metadata": {},
   "outputs": [
    {
     "name": "stdout",
     "output_type": "stream",
     "text": [
      "datetime.datetime(2017, 6, 5, 11, 22, 58, 874278)\n",
      "'2017-06-05 11:22:58.874278'\n"
     ]
    }
   ],
   "source": [
    "# Видим, что результат работы функции repr() различается\n",
    "\n",
    "print(repr(date))\n",
    "print(repr(string))"
   ]
  },
  {
   "cell_type": "markdown",
   "metadata": {},
   "source": [
    "По результату работы функции <b>repr()</b> понятно, что переменная <b>date</b> - объект типа <b>datetime.datetime</b>, а переменная <b>string</b> - обычная строка"
   ]
  },
  {
   "cell_type": "markdown",
   "metadata": {},
   "source": [
    "### Служебные функции: \\__str\\__, \\__repr\\__"
   ]
  },
  {
   "cell_type": "markdown",
   "metadata": {},
   "source": [
    "Функция <b>\\__str\\__</b> вызывается функцией str для преобразования экземпляра класса к типу str<br>\n",
    "Функция <b>\\__repr\\__</b> вызывается функцией repr для получения строки «формального» представления объекта"
   ]
  },
  {
   "cell_type": "markdown",
   "metadata": {},
   "source": [
    "Цель <b>\\__str\\__</b> - предоставлять читаемое представление объекта<br>\n",
    "Цель <b>\\__repr\\__</b> - предоставлять однозначное представление объекта"
   ]
  },
  {
   "cell_type": "markdown",
   "metadata": {},
   "source": [
    "Если для данного объекта функция <b>\\__repr\\__</b> определена, а <b>\\__str\\__</b> не определена, то <b>\\__str\\__ = \\__repr\\__</b>\n",
    "\n",
    "Из этого следует, что для всех объектов должна быть определена функция <b>\\__repr\\__</b>. А функция <b>\\__str\\__</b> не обязательно определена и нужна лишь для \"pretty print\" функциональности"
   ]
  },
  {
   "cell_type": "markdown",
   "metadata": {},
   "source": [
    "В случае неопределенности функции <b>\\__str\\__</b>, представление является строкой, обрамлённой угловыми скобками (< и >), содержащей название типа и некую дополнительную информацию, часто — название объекта и его адрес в памяти."
   ]
  },
  {
   "cell_type": "code",
   "execution_count": 18,
   "metadata": {},
   "outputs": [
    {
     "name": "stdout",
     "output_type": "stream",
     "text": [
      "<__main__.Animal object at 0x7f6e3c589438>\n",
      "<__main__.Animal object at 0x7f6e3c589240>\n"
     ]
    }
   ],
   "source": [
    "class Animal():\n",
    "    pass\n",
    "\n",
    "print(Animal().__str__())\n",
    "print(Animal().__repr__())"
   ]
  },
  {
   "cell_type": "markdown",
   "metadata": {},
   "source": [
    "Соотвестсвенно и функции <b>str()</b>, <b>repr()</b> выведут одинаковый результат"
   ]
  },
  {
   "cell_type": "code",
   "execution_count": 19,
   "metadata": {},
   "outputs": [
    {
     "name": "stdout",
     "output_type": "stream",
     "text": [
      "<__main__.Animal object at 0x7f6e3c589908>\n",
      "<__main__.Animal object at 0x7f6e3c589940>\n"
     ]
    }
   ],
   "source": [
    "print(str(Animal()))\n",
    "print(repr(Animal()))"
   ]
  },
  {
   "cell_type": "markdown",
   "metadata": {},
   "source": [
    "### Bad Practice: eval + repr"
   ]
  },
  {
   "cell_type": "markdown",
   "metadata": {},
   "source": [
    "В документации к функции repr() указано, что для многих типов передаваемых объектов, функция возвращает строку, которая при передаче в eval() может произвести объект с тем же значением, что и исходный"
   ]
  },
  {
   "cell_type": "markdown",
   "metadata": {},
   "source": [
    "Здесь на выходе из eval() создается объект с таким же типом (datetime.datetime), что и у переменной <b>date</b>"
   ]
  },
  {
   "cell_type": "code",
   "execution_count": 20,
   "metadata": {},
   "outputs": [
    {
     "name": "stdout",
     "output_type": "stream",
     "text": [
      "<class 'datetime.datetime'>\n",
      "2017-06-05 11:22:58.874278\n"
     ]
    }
   ],
   "source": [
    "date_new = eval(repr(date))\n",
    "print(type(date_new))\n",
    "print(date_new)"
   ]
  },
  {
   "cell_type": "markdown",
   "metadata": {},
   "source": [
    "<b>1) Нельзя передать в eval() объект своего класса</b>"
   ]
  },
  {
   "cell_type": "code",
   "execution_count": 21,
   "metadata": {},
   "outputs": [
    {
     "ename": "SyntaxError",
     "evalue": "invalid syntax (<string>, line 1)",
     "output_type": "error",
     "traceback": [
      "\u001b[0;36m  File \u001b[0;32m\"<string>\"\u001b[0;36m, line \u001b[0;32m1\u001b[0m\n\u001b[0;31m    <__main__.Animal object at 0x7f6e3c5894e0>\u001b[0m\n\u001b[0m    ^\u001b[0m\n\u001b[0;31mSyntaxError\u001b[0m\u001b[0;31m:\u001b[0m invalid syntax\n"
     ]
    }
   ],
   "source": [
    "eval(repr(Animal()))"
   ]
  },
  {
   "cell_type": "markdown",
   "metadata": {},
   "source": [
    "<b>2) Это небезопасно. Можно передать в eval() строку, которая является вредоносной командой</b>"
   ]
  },
  {
   "cell_type": "code",
   "execution_count": 22,
   "metadata": {},
   "outputs": [
    {
     "name": "stdout",
     "output_type": "stream",
     "text": [
      "total 172\r\n",
      "-rw-rw-r-- 1 tylorn dpt_yandex_distproducts_browserdev_mobile_taxi_8151_8680 24260 Dec  1 17:02 01_Prints.ipynb\r\n",
      "-rw-rw-r-- 1 tylorn dpt_yandex_distproducts_browserdev_mobile_taxi_8151_8680 45271 Dec  1 15:11 02_Strings.ipynb\r\n",
      "-rw-rw-r-- 1 tylorn dpt_yandex_distproducts_browserdev_mobile_taxi_8151_8680 43066 Dec  1 15:11 03_Files.ipynb\r\n",
      "-rw-rw-r-- 1 tylorn dpt_yandex_distproducts_browserdev_mobile_taxi_8151_8680 47305 Dec  1 16:55 04_Combo.ipynb\r\n",
      "-rw-rw-r-- 1 tylorn dpt_yandex_distproducts_browserdev_mobile_taxi_8151_8680     0 Dec  1 17:02 eval_security.txt\r\n",
      "drwxrwxr-x 3 tylorn dpt_yandex_distproducts_browserdev_mobile_taxi_8151_8680  4096 Dec  1 17:00 hw\r\n",
      "-rw-rw-r-- 1 tylorn dpt_yandex_distproducts_browserdev_mobile_taxi_8151_8680     6 Dec  1 17:01 output.txt\r\n"
     ]
    }
   ],
   "source": [
    "# Создаем файл eval_security.txt\n",
    "\n",
    "! touch eval_security.txt\n",
    "! ls -l"
   ]
  },
  {
   "cell_type": "code",
   "execution_count": 23,
   "metadata": {},
   "outputs": [
    {
     "name": "stdout",
     "output_type": "stream",
     "text": [
      "total 172\r\n",
      "-rw-rw-r-- 1 tylorn dpt_yandex_distproducts_browserdev_mobile_taxi_8151_8680 24260 Dec  1 17:02 01_Prints.ipynb\r\n",
      "-rw-rw-r-- 1 tylorn dpt_yandex_distproducts_browserdev_mobile_taxi_8151_8680 45271 Dec  1 15:11 02_Strings.ipynb\r\n",
      "-rw-rw-r-- 1 tylorn dpt_yandex_distproducts_browserdev_mobile_taxi_8151_8680 43066 Dec  1 15:11 03_Files.ipynb\r\n",
      "-rw-rw-r-- 1 tylorn dpt_yandex_distproducts_browserdev_mobile_taxi_8151_8680 47305 Dec  1 16:55 04_Combo.ipynb\r\n",
      "drwxrwxr-x 3 tylorn dpt_yandex_distproducts_browserdev_mobile_taxi_8151_8680  4096 Dec  1 17:00 hw\r\n",
      "-rw-rw-r-- 1 tylorn dpt_yandex_distproducts_browserdev_mobile_taxi_8151_8680     6 Dec  1 17:01 output.txt\r\n"
     ]
    }
   ],
   "source": [
    "# Удаляем файл eval_security.txt\n",
    "\n",
    "eval(repr(__import__(\"os\").system(\"rm eval_security.txt\")))\n",
    "! ls -l"
   ]
  },
  {
   "cell_type": "markdown",
   "metadata": {},
   "source": [
    "Можно читать строку безопасно через <b>ast.literal_eval()</b>.<br>\n",
    "Это поможет с проблемой содержания в строке вредоносных команд, но не решит остальные."
   ]
  },
  {
   "cell_type": "markdown",
   "metadata": {},
   "source": [
    "<b>3) Совместное использование repr и eval часто ведет к проблемам, которые трудно выявить и предугадать на этапе тестирования.<br>Трудности в поддержке</b>"
   ]
  },
  {
   "cell_type": "markdown",
   "metadata": {},
   "source": [
    "Может иметь место банальная ошибка с пропуском кавычек"
   ]
  },
  {
   "cell_type": "markdown",
   "metadata": {},
   "source": [
    "<b>4) Трудности с переносимостью кода</b>"
   ]
  },
  {
   "cell_type": "markdown",
   "metadata": {
    "collapsed": true
   },
   "source": [
    "Пример: {1, 2, 3} - допустимая конструкция в JavaScript, но это не множество из трех элементов"
   ]
  },
  {
   "cell_type": "markdown",
   "metadata": {},
   "source": [
    "<b>5) Unicode</b>"
   ]
  },
  {
   "cell_type": "code",
   "execution_count": 24,
   "metadata": {},
   "outputs": [
    {
     "data": {
      "text/plain": [
       "'Строка с русскими или китайскими символами'"
      ]
     },
     "execution_count": 24,
     "metadata": {},
     "output_type": "execute_result"
    }
   ],
   "source": [
    "s=eval(repr(\"Строка с русскими или китайскими символами\"))\n",
    "s"
   ]
  },
  {
   "cell_type": "code",
   "execution_count": 25,
   "metadata": {},
   "outputs": [],
   "source": [
    "with open('test_output.txt', 'w') as f:\n",
    "    print(repr(\"Строка с русскими или китайскими символами\"), file=f)"
   ]
  },
  {
   "cell_type": "markdown",
   "metadata": {},
   "source": [
    "## Запрос пользовательского ввода"
   ]
  },
  {
   "cell_type": "markdown",
   "metadata": {},
   "source": [
    "### Использование функции input"
   ]
  },
  {
   "cell_type": "markdown",
   "metadata": {},
   "source": [
    "<b>input()</b> - функция ввода данных с клавиатуры в программу\n",
    "\n",
    "Когда данная функция выполняется, то поток выполнения программы останавливается в ожидании данных, которые пользователь должен ввести с помощью клавиатуры. После ввода данных и нажатия Enter, функция <b>input()</b> завершает свое выполнение и возвращает результат, который представляет собой строку символов, введенных пользователем."
   ]
  },
  {
   "cell_type": "code",
   "execution_count": 26,
   "metadata": {},
   "outputs": [
    {
     "name": "stdout",
     "output_type": "stream",
     "text": [
      "123\n"
     ]
    },
    {
     "data": {
      "text/plain": [
       "'123'"
      ]
     },
     "execution_count": 26,
     "metadata": {},
     "output_type": "execute_result"
    }
   ],
   "source": [
    "input()"
   ]
  },
  {
   "cell_type": "markdown",
   "metadata": {},
   "source": [
    "Опциональный аргумент функции - строка, которая будет выводиться перед полем для ввода. Используется, чтобы пользователь мог понять, какие данные запрашиваются для ввода."
   ]
  },
  {
   "cell_type": "code",
   "execution_count": 27,
   "metadata": {},
   "outputs": [
    {
     "name": "stdout",
     "output_type": "stream",
     "text": [
      "Введите текущий год: 90\n"
     ]
    },
    {
     "data": {
      "text/plain": [
       "'90'"
      ]
     },
     "execution_count": 27,
     "metadata": {},
     "output_type": "execute_result"
    }
   ],
   "source": [
    "input(\"Введите текущий год: \")"
   ]
  },
  {
   "cell_type": "code",
   "execution_count": 28,
   "metadata": {},
   "outputs": [
    {
     "name": "stdout",
     "output_type": "stream",
     "text": [
      "Input your name: ilya\n"
     ]
    },
    {
     "data": {
      "text/plain": [
       "'ilya'"
      ]
     },
     "execution_count": 28,
     "metadata": {},
     "output_type": "execute_result"
    }
   ],
   "source": [
    "input('Input your name: ')"
   ]
  }
 ],
 "metadata": {
  "anaconda-cloud": {},
  "kernelspec": {
   "display_name": "dmia",
   "language": "python",
   "name": "dmia"
  },
  "language_info": {
   "codemirror_mode": {
    "name": "ipython",
    "version": 3
   },
   "file_extension": ".py",
   "mimetype": "text/x-python",
   "name": "python",
   "nbconvert_exporter": "python",
   "pygments_lexer": "ipython3",
   "version": "3.6.6"
  }
 },
 "nbformat": 4,
 "nbformat_minor": 2
}
