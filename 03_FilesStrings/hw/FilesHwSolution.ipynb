{
 "cells": [
  {
   "cell_type": "markdown",
   "metadata": {},
   "source": [
    "### Большая часть задач требует операций с файлами, поэтому для воспроизводимости результатов работы вашего кода эти файлы нужно создавать\n",
    "\n",
    "### Можете их всех создавать в текущей папке, быстро и удобно это можно сделать таким способом:"
   ]
  },
  {
   "cell_type": "code",
   "execution_count": 1,
   "metadata": {},
   "outputs": [],
   "source": [
    "text = \"\"\"123\n",
    "4567\n",
    " 8910\n",
    "\"\"\"\n",
    "with open('task_1.1_source', 'w') as f:\n",
    "    f.write(text)"
   ]
  },
  {
   "cell_type": "code",
   "execution_count": 2,
   "metadata": {},
   "outputs": [
    {
     "name": "stdout",
     "output_type": "stream",
     "text": [
      "123\r\n",
      "4567\r\n",
      " 8910\r\n"
     ]
    }
   ],
   "source": [
    "!cat task_1.1_source"
   ]
  },
  {
   "cell_type": "markdown",
   "metadata": {},
   "source": [
    "# Базовый уровень"
   ]
  },
  {
   "cell_type": "markdown",
   "metadata": {},
   "source": [
    "## Задание 1.1\n",
    "\n",
    "Напишите функцию, копирующую файл\n",
    "\n",
    "source_path должен существовать, а отсутствующие промежуточные папки из target_path должны быть созданы\n",
    "\n",
    "Подсказка: можно прочитать исходный файл и записать в новый. \n",
    "\n",
    "Опциональное усложнение: попробуйте написать так, чтобы функция работала и с большими файлами (нужно, чтобы содежимое файла не считывалось полностью в память)"
   ]
  },
  {
   "cell_type": "code",
   "execution_count": 3,
   "metadata": {},
   "outputs": [],
   "source": [
    "import os"
   ]
  },
  {
   "cell_type": "code",
   "execution_count": 4,
   "metadata": {},
   "outputs": [],
   "source": [
    "def create_path_if_needed(target_path):\n",
    "    target_dir = os.path.dirname(target_path)\n",
    "    if target_dir != '' and not os.path.exists(target_dir):\n",
    "        os.makedirs(target_dir)\n",
    "\n",
    "\n",
    "def copy_file(source_path, target_path):\n",
    "    create_path_if_needed(target_path)\n",
    "        \n",
    "    with open(source_path, 'r') as fi, open(target_path, 'w') as fo:\n",
    "        fo.write(fi.read())"
   ]
  },
  {
   "cell_type": "code",
   "execution_count": 5,
   "metadata": {},
   "outputs": [],
   "source": [
    "def copy_file_big(source_path, target_path, block_size=3):\n",
    "    create_path_if_needed(target_path)\n",
    "        \n",
    "    with open(source_path, 'r') as fi, open(target_path, 'w') as fo:\n",
    "        block = fi.read(block_size)\n",
    "        while block != '':\n",
    "            fo.write(block)\n",
    "            block = fi.read(block_size)"
   ]
  },
  {
   "cell_type": "code",
   "execution_count": 6,
   "metadata": {},
   "outputs": [],
   "source": [
    "copy_file('task_1.1_source', 'tmp/task_1.1_source')"
   ]
  },
  {
   "cell_type": "code",
   "execution_count": 7,
   "metadata": {},
   "outputs": [],
   "source": [
    "copy_file_big('task_1.1_source', 'tmp/task_1.1_source')"
   ]
  },
  {
   "cell_type": "code",
   "execution_count": 8,
   "metadata": {},
   "outputs": [
    {
     "name": "stdout",
     "output_type": "stream",
     "text": [
      "FilesHw.ipynb         task_1.2_target       task_3.2_source_1\r\n",
      "FilesHwSolution.ipynb task_2.1_source       task_3.2_source_2\r\n",
      "task_1.1_source       task_2.2_source       task_3.2_target\r\n",
      "task_1.2_source       task_2.2_target       \u001b[1m\u001b[36mtmp\u001b[m\u001b[m\r\n"
     ]
    }
   ],
   "source": [
    "!ls"
   ]
  },
  {
   "cell_type": "code",
   "execution_count": 9,
   "metadata": {},
   "outputs": [
    {
     "name": "stdout",
     "output_type": "stream",
     "text": [
      "task_1.1_source\r\n"
     ]
    }
   ],
   "source": [
    "!ls tmp"
   ]
  },
  {
   "cell_type": "code",
   "execution_count": 10,
   "metadata": {},
   "outputs": [
    {
     "name": "stdout",
     "output_type": "stream",
     "text": [
      "123\r\n",
      "4567\r\n",
      " 8910\r\n"
     ]
    }
   ],
   "source": [
    "cat tmp/task_1.1_source"
   ]
  },
  {
   "cell_type": "markdown",
   "metadata": {},
   "source": [
    "## Задание 1.2\n",
    "\n",
    "##### В файле source_path находится англо-латинский словарь, то есть список слов на английском языке и их переводы на латинский язык (переводов может быть несколько). Необходимо создать из него латино-английский словарь по пути target_path. Например, из словаря\n",
    "\n",
    "\n",
    "\n",
    "apple - malum, pomum, popula\n",
    "\n",
    "fruit - baca, bacca, popum\n",
    "\n",
    "punishment - malum, multa\n",
    "\n",
    "\n",
    "\n",
    "##### нужно сделать словарь.\n",
    "\n",
    "baca - fruit\n",
    "\n",
    "bacca - fruit\n",
    "\n",
    "malum - apple, punishment\n",
    "\n",
    "multa - punishment\n",
    "\n",
    "pomum - apple\n",
    "\n",
    "popula - apple\n",
    "\n",
    "popum - fruit\n",
    "\n",
    "##### Не забудьте, что слова нужно расположить в алфавитном порядке.\n",
    "##### Будет полезна функция strip у строки для удаления пробелов\n"
   ]
  },
  {
   "cell_type": "code",
   "execution_count": 11,
   "metadata": {},
   "outputs": [],
   "source": [
    "from collections import defaultdict\n",
    "import re\n",
    "\n",
    "\n",
    "def dump_dict_2_file(words_dict, target_path):\n",
    "    create_path_if_needed(target_path)\n",
    "    with open(target_path, 'w')as fo:\n",
    "        for word, translations in sorted(words_dict.items()):\n",
    "            fo.write('{} - {}\\n'.format(word, u', '.join(translations)))\n",
    "\n",
    "\n",
    "def eng_lat_2_lat_eng(source_path, target_path):\n",
    "    lat_eng_dict = defaultdict(list)\n",
    "    with open(source_path, 'r') as fi:\n",
    "        for line in fi:\n",
    "            tokens = re.findall('[a-zA-Z]+', line)\n",
    "            word, translations = tokens[0], tokens[1:]\n",
    "            for translation in translations:\n",
    "                lat_eng_dict[translation].append(word)\n",
    "    dump_dict_2_file(lat_eng_dict, target_path)\n",
    "            "
   ]
  },
  {
   "cell_type": "code",
   "execution_count": 12,
   "metadata": {},
   "outputs": [],
   "source": [
    "text = \"\"\"apple - malum, pomum, popula\n",
    "fruit - baca, bacca, popum\n",
    "punishment - malum, multa\n",
    "\"\"\"\n",
    "with open('task_1.2_source', 'w') as f:\n",
    "    f.write(text)"
   ]
  },
  {
   "cell_type": "code",
   "execution_count": 13,
   "metadata": {},
   "outputs": [],
   "source": [
    "eng_lat_2_lat_eng('task_1.2_source', 'task_1.2_target')"
   ]
  },
  {
   "cell_type": "code",
   "execution_count": 14,
   "metadata": {},
   "outputs": [
    {
     "name": "stdout",
     "output_type": "stream",
     "text": [
      "baca - fruit\r\n",
      "bacca - fruit\r\n",
      "malum - apple, punishment\r\n",
      "multa - punishment\r\n",
      "pomum - apple\r\n",
      "popula - apple\r\n",
      "popum - fruit\r\n"
     ]
    }
   ],
   "source": [
    "!cat task_1.2_target"
   ]
  },
  {
   "cell_type": "markdown",
   "metadata": {},
   "source": [
    "## Задание 1.3\n",
    "\n",
    "Напишите функцию, вычисляющую длину русского слова, независимо от его кодировки\n",
    "\n",
    "Если параметр encoding задан, то нужно декодировать текст при помощи этой кодировки. А если он не задан, то кодировку надо определить самостоятельно.\n",
    "\n",
    "##### Если кодировка не задана, то точное решение здесь написать не получится. Но можно воспользоваться функцией my_decoder из лекции"
   ]
  },
  {
   "cell_type": "code",
   "execution_count": 15,
   "metadata": {},
   "outputs": [],
   "source": [
    "import chardet\n",
    "\n",
    "def my_len(word, encoding=None):\n",
    "    if type(word) is not str:\n",
    "        if encoding is None:\n",
    "            encoding = chardet.detect(word)['encoding']\n",
    "        word = word.decode(encoding)\n",
    "    return len(word)"
   ]
  },
  {
   "cell_type": "code",
   "execution_count": 16,
   "metadata": {},
   "outputs": [
    {
     "data": {
      "text/plain": [
       "True"
      ]
     },
     "execution_count": 16,
     "metadata": {},
     "output_type": "execute_result"
    }
   ],
   "source": [
    "my_len(u'текст') == 5"
   ]
  },
  {
   "cell_type": "code",
   "execution_count": 17,
   "metadata": {},
   "outputs": [
    {
     "data": {
      "text/plain": [
       "True"
      ]
     },
     "execution_count": 17,
     "metadata": {},
     "output_type": "execute_result"
    }
   ],
   "source": [
    "my_len(u'ааааа'.encode('utf_16'), encoding='utf_16') == 5"
   ]
  },
  {
   "cell_type": "code",
   "execution_count": 18,
   "metadata": {},
   "outputs": [
    {
     "data": {
      "text/plain": [
       "True"
      ]
     },
     "execution_count": 18,
     "metadata": {},
     "output_type": "execute_result"
    }
   ],
   "source": [
    "my_len(u'текст'.encode('windows-1251')) == 5"
   ]
  },
  {
   "cell_type": "markdown",
   "metadata": {},
   "source": [
    "# Продвинутый уровень"
   ]
  },
  {
   "cell_type": "markdown",
   "metadata": {},
   "source": [
    "## Задание 2.1\n",
    "\n",
    "Напишите функцию, которая выписывает список файлов в данной директории и сортирует их в соответствии с их размером. Функция должна получать путь к директории в качестве аргумента и печатать на экран имена всех файлов в ней и их размеры, причем первыми должны идти файлы с наибольшими размерами, а в случае одинакового размер файлы сортируются по алфавиту.\n",
    "\n",
    "##### Указание. Изучите функции listdir и stat из модуля os и функции isfile и join из модуля os.path.\n"
   ]
  },
  {
   "cell_type": "code",
   "execution_count": 19,
   "metadata": {},
   "outputs": [],
   "source": [
    "def get_dir_content_info(dir_path):\n",
    "    files_with_sizes = [\n",
    "        (filename, os.stat(os.path.join(dir_path, filename)).st_size)\n",
    "        for filename in os.listdir(dir_path)\n",
    "        if os.path.isfile(os.path.join(dir_path, filename))\n",
    "    ]\n",
    "    for filename, size in sorted(files_with_sizes, key=lambda x: (-x[1], x[0])):\n",
    "        print(filename, size)"
   ]
  },
  {
   "cell_type": "code",
   "execution_count": 20,
   "metadata": {},
   "outputs": [],
   "source": [
    "text = \"\"\"123\n",
    "4567\n",
    " 8910\n",
    "\"\"\"\n",
    "with open('task_2.1_source', 'w') as f:\n",
    "    f.write(text)"
   ]
  },
  {
   "cell_type": "code",
   "execution_count": 21,
   "metadata": {},
   "outputs": [
    {
     "name": "stdout",
     "output_type": "stream",
     "text": [
      "FilesHwSolution.ipynb 22931\n",
      "FilesHw.ipynb 11804\n",
      "task_1.2_target 115\n",
      "task_1.2_source 82\n",
      "task_3.2_source_1 52\n",
      "task_3.2_source_2 52\n",
      "task_2.2_source 48\n",
      "task_2.2_target 39\n",
      "task_3.2_target 25\n",
      "task_1.1_source 15\n",
      "task_2.1_source 15\n"
     ]
    }
   ],
   "source": [
    "get_dir_content_info('.')"
   ]
  },
  {
   "cell_type": "markdown",
   "metadata": {},
   "source": [
    "## Задание 2.2\n",
    "\n",
    "Аналогично 1.2, но только теперь англо-русский в русско-английский словарь. Дополнительно теперь будет ещё параметр encoding для кодировки файлов. Если он None, то нужно самостоятельно определить кодировку файла.\n",
    "\n",
    "##### Решение будет почти дублировать 1.2, но сначала текст нужно привести в unicode"
   ]
  },
  {
   "cell_type": "code",
   "execution_count": 22,
   "metadata": {},
   "outputs": [],
   "source": [
    "def eng_rus_2_rus_eng(source_path, target_path, encoding=None):\n",
    "    rus_eng_dict = defaultdict(list)\n",
    "    with open(source_path, 'r', encoding=encoding) as fi:\n",
    "        for line in fi:\n",
    "            tokens = re.findall(u'[а-яА-Яa-zA-Z]+', line)\n",
    "            word, translations = tokens[0], tokens[1:]\n",
    "            for translation in translations:\n",
    "                rus_eng_dict[translation].append(word)\n",
    "    dump_dict_2_file(rus_eng_dict, target_path)"
   ]
  },
  {
   "cell_type": "code",
   "execution_count": 23,
   "metadata": {},
   "outputs": [],
   "source": [
    "text = \"\"\"apple - яблоко\n",
    "mac - мак, яблоко\n",
    "\"\"\"\n",
    "with open('task_2.2_source', 'w') as f:\n",
    "    f.write(text)"
   ]
  },
  {
   "cell_type": "code",
   "execution_count": 24,
   "metadata": {},
   "outputs": [],
   "source": [
    "eng_rus_2_rus_eng('task_2.2_source', 'task_2.2_target', 'utf-8')"
   ]
  },
  {
   "cell_type": "code",
   "execution_count": 25,
   "metadata": {},
   "outputs": [
    {
     "name": "stdout",
     "output_type": "stream",
     "text": [
      "мак - mac\r\n",
      "яблоко - apple, mac\r\n"
     ]
    }
   ],
   "source": [
    "!cat task_2.2_target"
   ]
  },
  {
   "cell_type": "markdown",
   "metadata": {},
   "source": [
    "# Сложный уровень"
   ]
  },
  {
   "cell_type": "markdown",
   "metadata": {},
   "source": [
    "## Задание 3.1\n",
    "\n",
    "Существует исследование, говорящее о том, что в словах текста можно произвольно переставить буквы (не затрагивая первую и последнюю), и от этого читабельность текста практически не ухудшится. Напишите функцию для проверки этого факта. Ваша функция должна получать на вход какой-нибудь текст (может быть и на русском языке) и переставлять буквы в его словах случайным образом. \n",
    "\n",
    "Если seed None, то буквы переставляются не случайным образом, а сортируются по алфавиту (латинские символы считаем меньше кириллических). Если seed не None, то нужно использовать это seed при инициализации рандома. Сравните результаты.\n",
    "\n",
    "##### будем считать, что текст это последовательность кириллических и латинских символов разделённая пробелом\n",
    "##### вам потребуется модуль random и функции random.seed и random.shuffle\n",
    "##### проверьте результат работы на не юникодовских строчках и объясните результат"
   ]
  },
  {
   "cell_type": "code",
   "execution_count": 26,
   "metadata": {},
   "outputs": [],
   "source": [
    "import random\n",
    "\n",
    "def create_word_processor(seed):\n",
    "    if seed is not None:\n",
    "        random_gen = random.Random(seed)\n",
    "        def fun(word):\n",
    "            if len(word) > 2:\n",
    "                inner_letters = list(word[1:-1])\n",
    "                random_gen.shuffle(inner_letters)\n",
    "                word = word[0] + ''.join(inner_letters) + word[-1]\n",
    "            return word\n",
    "    else:\n",
    "        def fun(word):\n",
    "            if len(word) > 2:\n",
    "                inner_letters = list(word[1:-1])\n",
    "                word = word[0] + ''.join(sorted(inner_letters)) + word[-1]\n",
    "            return word\n",
    "    return fun\n",
    "\n",
    "def text_shuffle(text, seed=None):\n",
    "    word_processor = create_word_processor(seed)\n",
    "    print(' '.join(map(word_processor, text.split(' '))))"
   ]
  },
  {
   "cell_type": "code",
   "execution_count": 27,
   "metadata": {},
   "outputs": [
    {
     "name": "stdout",
     "output_type": "stream",
     "text": [
      "вам пбееорсттуя мдлоуь radnom и фикнуци r.adeemnosd и r.adffhlmnosue\n"
     ]
    }
   ],
   "source": [
    "text_shuffle('вам потребуется модуль random и функции random.seed и random.shuffle')"
   ]
  },
  {
   "cell_type": "code",
   "execution_count": 28,
   "metadata": {},
   "outputs": [
    {
     "name": "stdout",
     "output_type": "stream",
     "text": [
      "вам пбееорсттуя мдлоуь radnom и фикнуци r.adeemnosd и r.adffhlmnosue\n"
     ]
    }
   ],
   "source": [
    "text_shuffle(u'вам потребуется модуль random и функции random.seed и random.shuffle')"
   ]
  },
  {
   "cell_type": "code",
   "execution_count": 29,
   "metadata": {},
   "outputs": [
    {
     "name": "stdout",
     "output_type": "stream",
     "text": [
      "вам пеетбсруотя млдуоь rndoam и фцукини rdnaems.oed и r.lofnhusdamfe\n"
     ]
    }
   ],
   "source": [
    "text_shuffle('вам потребуется модуль random и функции random.seed и random.shuffle', seed=42)"
   ]
  },
  {
   "cell_type": "code",
   "execution_count": 30,
   "metadata": {},
   "outputs": [
    {
     "name": "stdout",
     "output_type": "stream",
     "text": [
      "вам пеетбсруотя млдуоь rndoam и фцукини rdnaems.oed и r.lofnhusdamfe\n"
     ]
    }
   ],
   "source": [
    "text_shuffle(u'вам потребуется модуль random и функции random.seed и random.shuffle', seed=42)"
   ]
  },
  {
   "cell_type": "code",
   "execution_count": 31,
   "metadata": {},
   "outputs": [
    {
     "name": "stdout",
     "output_type": "stream",
     "text": [
      "вам пеетбсруотя млдуоь rndoam и фцукини rdnaems.oed и r.lofnhusdamfe\n"
     ]
    }
   ],
   "source": [
    "text_shuffle(u'вам потребуется модуль random и функции random.seed и random.shuffle', seed=42)"
   ]
  },
  {
   "cell_type": "code",
   "execution_count": 32,
   "metadata": {},
   "outputs": [
    {
     "name": "stdout",
     "output_type": "stream",
     "text": [
      "вам постребетуя мдоуль rnadom и фцкниуи rn.eomdsaed и rsnffdmaoh.lue\n"
     ]
    }
   ],
   "source": [
    "text_shuffle(u'вам потребуется модуль random и функции random.seed и random.shuffle', seed=47)"
   ]
  },
  {
   "cell_type": "markdown",
   "metadata": {},
   "source": [
    "## Задание 3.2\n",
    "\n",
    "Напишите функцию, которая читает два файла построчно (то есть не загружая всё содержимое в память), и записывает в выходной файл результат лексиграфического сравнение срочки из первого файла и из второго (First, Second и Equal по аналогии c предыдущим ДЗ)."
   ]
  },
  {
   "cell_type": "code",
   "execution_count": 33,
   "metadata": {},
   "outputs": [],
   "source": [
    "import itertools\n",
    "\n",
    "\n",
    "def str_compare(fst, snd):\n",
    "    if fst < snd:\n",
    "        return 'First'\n",
    "    elif fst > snd:\n",
    "        return 'Second'\n",
    "    else:\n",
    "        return 'Equal'\n",
    "\n",
    "\n",
    "def process(fst_source_path, snd_source_path, target_path):\n",
    "    create_path_if_needed(target_path)\n",
    "    with open(fst_source_path, 'r') as fi_fst, open(snd_source_path, 'r') as fi_snd, open(target_path, 'w') as fo:\n",
    "        for fst, snd in zip(fi_fst, fi_snd):\n",
    "            fo.write('{}\\n'.format(str_compare(fst.strip(), snd.strip())))"
   ]
  },
  {
   "cell_type": "code",
   "execution_count": 34,
   "metadata": {},
   "outputs": [],
   "source": [
    "text = \"\"\"apple - яблоко\n",
    "mac - мак, яблоко\n",
    "\"\"\"\n",
    "text2 =\"\"\"3\n",
    "4\n",
    "\"\"\"\n",
    "text3 =\"\"\"4\n",
    "3\n",
    "\"\"\"\n",
    "with open('task_3.2_source_1', 'w') as f:\n",
    "    f.write(text)\n",
    "    f.write(text2)\n",
    "    \n",
    "with open('task_3.2_source_2', 'w') as f:\n",
    "    f.write(text)\n",
    "    f.write(text3)"
   ]
  },
  {
   "cell_type": "code",
   "execution_count": 35,
   "metadata": {},
   "outputs": [],
   "source": [
    "process('task_3.2_source_1', 'task_3.2_source_2', 'task_3.2_target')"
   ]
  },
  {
   "cell_type": "code",
   "execution_count": 36,
   "metadata": {},
   "outputs": [
    {
     "name": "stdout",
     "output_type": "stream",
     "text": [
      "Equal\r\n",
      "Equal\r\n",
      "First\r\n",
      "Second\r\n"
     ]
    }
   ],
   "source": [
    "!cat task_3.2_target"
   ]
  },
  {
   "cell_type": "code",
   "execution_count": null,
   "metadata": {},
   "outputs": [],
   "source": []
  }
 ],
 "metadata": {
  "anaconda-cloud": {},
  "kernelspec": {
   "display_name": "python_data_science",
   "language": "python",
   "name": "python_data_science"
  },
  "language_info": {
   "codemirror_mode": {
    "name": "ipython",
    "version": 3
   },
   "file_extension": ".py",
   "mimetype": "text/x-python",
   "name": "python",
   "nbconvert_exporter": "python",
   "pygments_lexer": "ipython3",
   "version": "3.6.5"
  }
 },
 "nbformat": 4,
 "nbformat_minor": 2
}
