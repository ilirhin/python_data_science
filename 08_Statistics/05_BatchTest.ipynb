{
 "cells": [
  {
   "cell_type": "code",
   "execution_count": 1,
   "metadata": {},
   "outputs": [],
   "source": [
    "import numpy as np\n",
    "import scipy\n",
    "import matplotlib.pyplot as plt\n",
    "import scipy.stats\n",
    "\n",
    "%matplotlib inline"
   ]
  },
  {
   "cell_type": "code",
   "execution_count": 2,
   "metadata": {},
   "outputs": [],
   "source": [
    "def generate(gen, groups_count, group_size,  p0, delta):\n",
    "    p0_values = gen.uniform(\n",
    "        p0 - delta,\n",
    "        p0 + delta,\n",
    "        size=groups_count\n",
    "    )\n",
    "    rands = gen.uniform(size=(groups_count, group_size))\n",
    "    return (\n",
    "        rands < p0_values[:, np.newaxis]\n",
    "    ).astype(float).reshape(groups_count * group_size)"
   ]
  },
  {
   "cell_type": "code",
   "execution_count": 6,
   "metadata": {},
   "outputs": [],
   "source": [
    "def create_batched_ttest(batch_size):\n",
    "    def func(data_fst, data_snd):\n",
    "        return scipy.stats.mannwhitneyu(\n",
    "            data_fst.reshape((len(data_fst) // batch_size, batch_size)).mean(axis=1), \n",
    "            data_snd.reshape((len(data_snd) // batch_size, batch_size)).mean(axis=1),\n",
    "            alternative='two-sided',\n",
    "        ).pvalue\n",
    "    return func\n",
    "    \n",
    "\n",
    "def eval_hits_ratio(test, effect):\n",
    "    hits = 0.\n",
    "    count = 0.\n",
    "    gen = np.random.RandomState(7)\n",
    "\n",
    "    for _ in range(1000):\n",
    "        data_fst = generate(gen, 200, 50, 0.7, 0.1)\n",
    "        data_snd = generate(gen, 200, 50, 0.7 + effect, 0.1)\n",
    "\n",
    "        count += 1\n",
    "        if test(data_fst, data_snd) < 0.05:\n",
    "            hits += 1\n",
    "\n",
    "    return hits / count"
   ]
  },
  {
   "cell_type": "code",
   "execution_count": 7,
   "metadata": {},
   "outputs": [
    {
     "name": "stdout",
     "output_type": "stream",
     "text": [
      "effect: 0.0\n",
      "\tbatch_size: 1           hits: 0.139\n",
      "\tbatch_size: 20          hits: 0.095\n",
      "\tbatch_size: 100         hits: 0.055\n",
      "\tbatch_size: 200         hits: 0.055\n",
      "\tbatch_size: 1000        hits: 0.053\n",
      "\tbatch_size: 2000        hits: 0.029\n",
      "effect: 0.001\n",
      "\tbatch_size: 1           hits: 0.144\n",
      "\tbatch_size: 20          hits: 0.102\n",
      "\tbatch_size: 100         hits: 0.053\n",
      "\tbatch_size: 200         hits: 0.054\n",
      "\tbatch_size: 1000        hits: 0.055\n",
      "\tbatch_size: 2000        hits: 0.03\n",
      "effect: 0.01\n",
      "\tbatch_size: 1           hits: 0.365\n",
      "\tbatch_size: 20          hits: 0.287\n",
      "\tbatch_size: 100         hits: 0.193\n",
      "\tbatch_size: 200         hits: 0.204\n",
      "\tbatch_size: 1000        hits: 0.171\n",
      "\tbatch_size: 2000        hits: 0.124\n",
      "effect: 0.02\n",
      "\tbatch_size: 1           hits: 0.816\n",
      "\tbatch_size: 20          hits: 0.738\n",
      "\tbatch_size: 100         hits: 0.621\n",
      "\tbatch_size: 200         hits: 0.617\n",
      "\tbatch_size: 1000        hits: 0.555\n",
      "\tbatch_size: 2000        hits: 0.437\n",
      "effect: 0.05\n",
      "\tbatch_size: 1           hits: 1.0\n",
      "\tbatch_size: 20          hits: 1.0\n",
      "\tbatch_size: 100         hits: 1.0\n",
      "\tbatch_size: 200         hits: 1.0\n",
      "\tbatch_size: 1000        hits: 0.999\n",
      "\tbatch_size: 2000        hits: 0.995\n"
     ]
    }
   ],
   "source": [
    "for effect in [0., 0.001, 0.01, 0.02, 0.05]:\n",
    "    print('effect: {}'.format(effect))\n",
    "    for batch_size in [1, 20, 100, 200, 1000, 2000]:\n",
    "        print('\\tbatch_size: {:<12}hits: {}'.format(\n",
    "            batch_size, \n",
    "            eval_hits_ratio(create_batched_ttest(batch_size), effect)\n",
    "        ))"
   ]
  },
  {
   "cell_type": "code",
   "execution_count": null,
   "metadata": {},
   "outputs": [],
   "source": []
  }
 ],
 "metadata": {
  "kernelspec": {
   "display_name": "python_data_science",
   "language": "python",
   "name": "python_data_science"
  },
  "language_info": {
   "codemirror_mode": {
    "name": "ipython",
    "version": 3
   },
   "file_extension": ".py",
   "mimetype": "text/x-python",
   "name": "python",
   "nbconvert_exporter": "python",
   "pygments_lexer": "ipython3",
   "version": "3.6.6"
  }
 },
 "nbformat": 4,
 "nbformat_minor": 2
}
